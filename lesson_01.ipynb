{
 "cells": [
  {
   "cell_type": "markdown",
   "id": "88e70bee-b3b1-463f-acad-0d1c3503bba5",
   "metadata": {},
   "source": [
    "# Hello, World\n",
    "## second level\n",
    "* this is a bullet list\n",
    "* this is another item\n",
    "\n",
    "More _stuff_ here."
   ]
  },
  {
   "cell_type": "code",
   "execution_count": 1,
   "id": "ad9ed914-75b0-463f-89ba-31c37396b77e",
   "metadata": {},
   "outputs": [
    {
     "name": "stdout",
     "output_type": "stream",
     "text": [
      "hello, world!\n"
     ]
    }
   ],
   "source": [
    "print(\"hello, world!\")"
   ]
  },
  {
   "cell_type": "markdown",
   "id": "aa222108-1022-4a60-8256-31c56e77acaa",
   "metadata": {},
   "source": [
    "Markdown has a few things like: _italics_ or **bold** as well as numbered lists:\n",
    "1. hi there\n",
    "2. this is second item\n",
    "3. renumbers\n",
    "4. and so on\n",
    "\n",
    "# Level 1\n",
    "## Level 2\n",
    "### Level 3\n",
    "\n",
    "[link to columbia](https://www.columbia.edu)"
   ]
  },
  {
   "cell_type": "markdown",
   "id": "bff5ff68-95e9-4a94-9c6e-7a7a75153a86",
   "metadata": {},
   "source": [
    "$\\sum_{i=1}^{N} 2^{-i} \\approx 1$"
   ]
  },
  {
   "cell_type": "code",
   "execution_count": null,
   "id": "e1b96104-5340-46e7-a8bc-dcb4198523b5",
   "metadata": {},
   "outputs": [],
   "source": []
  }
 ],
 "metadata": {
  "kernelspec": {
   "display_name": "Python 3 (ipykernel)",
   "language": "python",
   "name": "python3"
  },
  "language_info": {
   "codemirror_mode": {
    "name": "ipython",
    "version": 3
   },
   "file_extension": ".py",
   "mimetype": "text/x-python",
   "name": "python",
   "nbconvert_exporter": "python",
   "pygments_lexer": "ipython3",
   "version": "3.13.1"
  }
 },
 "nbformat": 4,
 "nbformat_minor": 5
}
