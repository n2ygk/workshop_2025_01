{
 "cells": [
  {
   "cell_type": "markdown",
   "id": "0e840f23-20d1-44d1-862d-d816a279aa5f",
   "metadata": {},
   "source": [
    "# Conditionals: if - then - else"
   ]
  },
  {
   "cell_type": "code",
   "execution_count": 1,
   "id": "bd3f0551-9ffc-4448-b3de-e53d040b6666",
   "metadata": {},
   "outputs": [
    {
     "name": "stdout",
     "output_type": "stream",
     "text": [
      "mass is large\n"
     ]
    }
   ],
   "source": [
    "mass = 3.54\n",
    "if mass > 3.0:\n",
    "    print(\"mass is large\")"
   ]
  },
  {
   "cell_type": "code",
   "execution_count": 2,
   "id": "4ac7f0fb-ba00-4673-9631-4ae07cce6a95",
   "metadata": {},
   "outputs": [],
   "source": [
    "mass = 2.07\n",
    "if mass > 3.0:\n",
    "    print(\"mass is large\")"
   ]
  },
  {
   "cell_type": "code",
   "execution_count": 3,
   "id": "70b6ced3-4b9d-426a-9990-32529c56325d",
   "metadata": {},
   "outputs": [
    {
     "name": "stdout",
     "output_type": "stream",
     "text": [
      "3.54 is large\n",
      "9.22 is large\n"
     ]
    }
   ],
   "source": [
    "masses = [3.54, 2.07, 9.22, 1.86, 1.71]\n",
    "for m in masses:\n",
    "    if m > 3.0:\n",
    "        print(m, 'is large')"
   ]
  },
  {
   "cell_type": "code",
   "execution_count": 4,
   "id": "d2c9238e-2525-4241-9655-bca85489441e",
   "metadata": {},
   "outputs": [
    {
     "name": "stdout",
     "output_type": "stream",
     "text": [
      "3.54 is large\n",
      "2.07 is small\n",
      "9.22 is large\n",
      "1.86 is small\n",
      "1.71 is small\n"
     ]
    }
   ],
   "source": [
    "masses = [3.54, 2.07, 9.22, 1.86, 1.71]\n",
    "for m in masses:\n",
    "    if m > 3.0:\n",
    "        print(m, 'is large')\n",
    "    else:\n",
    "        print(m, 'is small')"
   ]
  },
  {
   "cell_type": "code",
   "execution_count": 5,
   "id": "5111bfe7-3d5f-4100-bb9a-053a3530e929",
   "metadata": {},
   "outputs": [
    {
     "name": "stdout",
     "output_type": "stream",
     "text": [
      "3.54 is large\n",
      "2.07 is small\n",
      "9.22 is HUGE\n",
      "1.86 is small\n",
      "1.71 is small\n"
     ]
    }
   ],
   "source": [
    "masses = [3.54, 2.07, 9.22, 1.86, 1.71]\n",
    "for m in masses:\n",
    "    if m > 9.0:\n",
    "        print(m, 'is HUGE')\n",
    "    elif m > 3.0:\n",
    "        print(m, 'is large')\n",
    "    else:\n",
    "        print(m, 'is small')"
   ]
  },
  {
   "cell_type": "code",
   "execution_count": 6,
   "id": "a1c8602f-5ec7-4432-b1d3-cc6ba50a6f2d",
   "metadata": {},
   "outputs": [
    {
     "name": "stdout",
     "output_type": "stream",
     "text": [
      "3.54 is large\n",
      "2.07 is small\n",
      "9.22 is large\n",
      "1.86 is small\n",
      "1.71 is small\n"
     ]
    }
   ],
   "source": [
    "masses = [3.54, 2.07, 9.22, 1.86, 1.71]\n",
    "for m in masses:\n",
    "    if m > 3.0:\n",
    "        print(m, 'is large')\n",
    "    elif m > 9.0:\n",
    "        print(m, 'is HUGE')\n",
    "    else:\n",
    "        print(m, 'is small')"
   ]
  },
  {
   "cell_type": "markdown",
   "id": "907e800d-1570-46f8-ba98-9e3797979e04",
   "metadata": {},
   "source": [
    "Here's the question: \n",
    "\n",
    "```python\n",
    "pressure = 71.9\n",
    "\n",
    "if pressure > 50.0:\n",
    "    pressure = 25.0\n",
    "elif pressure <= 50.0:\n",
    "    pressure = 0.0\n",
    "\n",
    "print(pressure)\n",
    "```"
   ]
  },
  {
   "cell_type": "code",
   "execution_count": 8,
   "id": "3a7e3796-4d4d-4467-908f-f8a7537ca302",
   "metadata": {},
   "outputs": [
    {
     "name": "stdout",
     "output_type": "stream",
     "text": [
      "25.0\n"
     ]
    }
   ],
   "source": [
    "pressure = 71.9\n",
    "\n",
    "if pressure > 50.0:\n",
    "    pressure = 25.0\n",
    "else:\n",
    "    if pressure <= 50.0:\n",
    "        pressure = 0.0\n",
    "\n",
    "print(pressure)"
   ]
  },
  {
   "cell_type": "code",
   "execution_count": 9,
   "id": "63415cdb-49d0-44c4-9cc5-98f94bbc0775",
   "metadata": {},
   "outputs": [
    {
     "name": "stdout",
     "output_type": "stream",
     "text": [
      "0.0\n"
     ]
    }
   ],
   "source": [
    "pressure = 71.9\n",
    "\n",
    "if pressure > 50.0:\n",
    "    pressure = 25.0\n",
    "if pressure <= 50.0:\n",
    "    pressure = 0.0\n",
    "\n",
    "print(pressure)"
   ]
  },
  {
   "cell_type": "markdown",
   "id": "ab4bd357-65f4-412a-b50d-57ceab4ea7ad",
   "metadata": {},
   "source": [
    "Modify this program so that it only processes files with fewer than 50 records:"
   ]
  },
  {
   "cell_type": "code",
   "execution_count": 12,
   "id": "e5eea763-7ced-4560-a7fb-46905fb08eba",
   "metadata": {},
   "outputs": [
    {
     "data": {
      "text/plain": [
       "['data/gapminder_gdp_americas.csv',\n",
       " 'data/gapminder_gdp_europe.csv',\n",
       " 'data/gapminder_all.csv',\n",
       " 'data/gapminder_gdp_oceania.csv',\n",
       " 'data/gapminder_gdp_africa.csv',\n",
       " 'data/transposed.csv',\n",
       " 'data/gapminder_gdp_asia.csv']"
      ]
     },
     "execution_count": 12,
     "metadata": {},
     "output_type": "execute_result"
    }
   ],
   "source": [
    "glob.glob('data/*.csv')"
   ]
  },
  {
   "cell_type": "code",
   "execution_count": 13,
   "id": "18ad9a3f-77d3-404c-a81e-0b14a89d6840",
   "metadata": {},
   "outputs": [
    {
     "name": "stdout",
     "output_type": "stream",
     "text": [
      "read filename data/gapminder_gdp_americas.csv has length 25\n",
      "read filename data/gapminder_gdp_europe.csv has length 30\n",
      "read filename data/gapminder_all.csv has length 142\n",
      "==============================\n",
      "data/gapminder_all.csv 142\n",
      "==============================\n",
      "read filename data/gapminder_gdp_oceania.csv has length 2\n",
      "read filename data/gapminder_gdp_africa.csv has length 52\n",
      "==============================\n",
      "data/gapminder_gdp_africa.csv 52\n",
      "==============================\n",
      "read filename data/transposed.csv has length 13\n",
      "read filename data/gapminder_gdp_asia.csv has length 33\n"
     ]
    }
   ],
   "source": [
    "import glob\n",
    "import pandas as pd\n",
    "\n",
    "for filename in glob.glob('data/*.csv'):\n",
    "    contents = pd.read_csv(filename)\n",
    "    print(\"read filename\", filename, \"has length\", len(contents))\n",
    "    if len(contents) > 50:\n",
    "        print(\"=\"*30)\n",
    "        print(filename, len(contents))\n",
    "        print(\"=\"*30)"
   ]
  },
  {
   "cell_type": "code",
   "execution_count": 19,
   "id": "d3014377-3b64-4be3-b4a3-45eca1f6c560",
   "metadata": {},
   "outputs": [
    {
     "name": "stdout",
     "output_type": "stream",
     "text": [
      "read filename shell-lesson-data/north-pacific-gyre/NENE01729B.txt has length 299\n",
      "read filename shell-lesson-data/north-pacific-gyre/NENE02040B.txt has length 299\n",
      "read filename shell-lesson-data/north-pacific-gyre/NENE01729A.txt has length 299\n",
      "read filename shell-lesson-data/north-pacific-gyre/NENE02040A.txt has length 299\n",
      "read filename shell-lesson-data/north-pacific-gyre/NENE01971Z.txt has length 299\n",
      "read filename shell-lesson-data/north-pacific-gyre/NENE01978B.txt has length 299\n",
      "read filename shell-lesson-data/north-pacific-gyre/NENE01978A.txt has length 299\n",
      "read filename shell-lesson-data/north-pacific-gyre/NENE01812A.txt has length 299\n",
      "read filename shell-lesson-data/north-pacific-gyre/NENE01736A.txt has length 299\n",
      "read filename shell-lesson-data/north-pacific-gyre/NENE01843B.txt has length 299\n",
      "read filename shell-lesson-data/north-pacific-gyre/NENE01843A.txt has length 299\n",
      "read filename shell-lesson-data/north-pacific-gyre/NENE02018B.txt has length 239\n",
      "==============================\n",
      "ERROR: shell-lesson-data/north-pacific-gyre/NENE02018B.txt length is 239\n",
      "==============================\n"
     ]
    }
   ],
   "source": [
    "import glob\n",
    "import pandas as pd\n",
    "\n",
    "for filename in glob.glob('shell-lesson-data/north-pacific-gyre/*.txt'):\n",
    "    contents = pd.read_csv(filename)\n",
    "    print(\"read filename\", filename, \"has length\", len(contents))\n",
    "    if len(contents) != 299:\n",
    "        print(\"=\"*30)\n",
    "        print(\"ERROR:\", filename, \"length is\", len(contents))\n",
    "        print(\"=\"*30)\n",
    "        break"
   ]
  },
  {
   "cell_type": "code",
   "execution_count": null,
   "id": "26f71b83-0439-48d2-a667-0bcd345ab68a",
   "metadata": {},
   "outputs": [],
   "source": []
  }
 ],
 "metadata": {
  "kernelspec": {
   "display_name": "Python 3 (ipykernel)",
   "language": "python",
   "name": "python3"
  },
  "language_info": {
   "codemirror_mode": {
    "name": "ipython",
    "version": 3
   },
   "file_extension": ".py",
   "mimetype": "text/x-python",
   "name": "python",
   "nbconvert_exporter": "python",
   "pygments_lexer": "ipython3",
   "version": "3.13.1"
  }
 },
 "nbformat": 4,
 "nbformat_minor": 5
}
