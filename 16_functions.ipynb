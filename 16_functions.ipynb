{
 "cells": [
  {
   "cell_type": "markdown",
   "id": "f4079023-ea82-4b12-b36a-80e10ebfd8ae",
   "metadata": {},
   "source": [
    "# Functions"
   ]
  },
  {
   "cell_type": "code",
   "execution_count": 1,
   "id": "99c8410c-a612-433e-b8aa-a3249c4a1c23",
   "metadata": {},
   "outputs": [],
   "source": [
    "def print_greeting():\n",
    "    print(\"Hello!\")\n",
    "    print(\"The weather outside is frightful.\")\n",
    "    print(\"Let it snow, let it snow, let it snow.\")"
   ]
  },
  {
   "cell_type": "code",
   "execution_count": 2,
   "id": "1e2a7c34-f0d2-4a2f-9ab0-0f355790f505",
   "metadata": {},
   "outputs": [
    {
     "name": "stdout",
     "output_type": "stream",
     "text": [
      "Hello!\n",
      "The weather outside is frightful.\n",
      "Let it snow, let it snow, let it snow.\n"
     ]
    }
   ],
   "source": [
    "print_greeting()"
   ]
  },
  {
   "cell_type": "markdown",
   "id": "96eb0908-3978-4196-b511-0087e060ddcf",
   "metadata": {},
   "source": [
    "## Arguments (parameters)"
   ]
  },
  {
   "cell_type": "code",
   "execution_count": 3,
   "id": "4cfa9b5f-40ea-4480-a344-9b6d611c9e8c",
   "metadata": {},
   "outputs": [],
   "source": [
    "def print_date(year, month, day):\n",
    "    joined = str(year) + '/' + str(month) + '/' + str(day)\n",
    "    print(joined)"
   ]
  },
  {
   "cell_type": "code",
   "execution_count": 4,
   "id": "134e9f6d-ac88-4796-b462-763fb77e0443",
   "metadata": {},
   "outputs": [
    {
     "name": "stdout",
     "output_type": "stream",
     "text": [
      "1871/3/19\n"
     ]
    }
   ],
   "source": [
    "print_date(1871, 3, 19)"
   ]
  },
  {
   "cell_type": "code",
   "execution_count": 5,
   "id": "fe4e7fe5-ffc8-4b3c-b75b-9e8349142789",
   "metadata": {},
   "outputs": [
    {
     "name": "stdout",
     "output_type": "stream",
     "text": [
      "1871/3/19\n"
     ]
    }
   ],
   "source": [
    "print_date(month=3, day=19, year=1871)"
   ]
  },
  {
   "cell_type": "markdown",
   "id": "21bb2671-8331-4569-b5d5-e65db92a23fa",
   "metadata": {},
   "source": [
    "## Functions return a result"
   ]
  },
  {
   "cell_type": "code",
   "execution_count": 6,
   "id": "015e921e-7043-4b0c-aeff-be72b24dec46",
   "metadata": {},
   "outputs": [],
   "source": [
    "def average(values):\n",
    "    \"\"\" returns the average of the list of values \"\"\"\n",
    "    if len(values) == 0:\n",
    "        return None\n",
    "    return sum(values) / len(values)"
   ]
  },
  {
   "cell_type": "code",
   "execution_count": 7,
   "id": "f57adcc3-2735-4ccf-b24d-9ab5fe69cbcc",
   "metadata": {},
   "outputs": [
    {
     "name": "stdout",
     "output_type": "stream",
     "text": [
      "Help on function average in module __main__:\n",
      "\n",
      "average(values)\n",
      "    returns the average of the list of values\n",
      "\n"
     ]
    }
   ],
   "source": [
    "help(average)"
   ]
  },
  {
   "cell_type": "code",
   "execution_count": 8,
   "id": "12c4bdc4-d8ae-4d62-b72b-fc43d4fa7597",
   "metadata": {},
   "outputs": [
    {
     "name": "stdout",
     "output_type": "stream",
     "text": [
      "average is 2.6666666666666665\n"
     ]
    }
   ],
   "source": [
    "a = average([1, 3, 4])\n",
    "print('average is', a)"
   ]
  },
  {
   "cell_type": "code",
   "execution_count": 9,
   "id": "288aca98-06a2-4b15-a08c-4d04f6e4e07f",
   "metadata": {},
   "outputs": [
    {
     "name": "stdout",
     "output_type": "stream",
     "text": [
      "average of empty list: None\n"
     ]
    }
   ],
   "source": [
    "print('average of empty list:', average([]))"
   ]
  },
  {
   "cell_type": "markdown",
   "id": "b3acba8a-a5fd-45e6-b7f4-e6a4a4ef8a85",
   "metadata": {},
   "source": [
    "## Every function returns _something_"
   ]
  },
  {
   "cell_type": "code",
   "execution_count": 10,
   "id": "d29222f5-bd31-4870-9361-ebb4ae0107b8",
   "metadata": {},
   "outputs": [
    {
     "name": "stdout",
     "output_type": "stream",
     "text": [
      "1871/3/19\n",
      "result of print_date() is None\n"
     ]
    }
   ],
   "source": [
    "result = print_date(1871, 3, 19)\n",
    "print(\"result of print_date() is\", result)"
   ]
  },
  {
   "cell_type": "code",
   "execution_count": 11,
   "id": "daab15ca-b996-4461-8165-68cc42d183dd",
   "metadata": {},
   "outputs": [
    {
     "ename": "NameError",
     "evalue": "name 'print_time' is not defined",
     "output_type": "error",
     "traceback": [
      "\u001b[0;31m---------------------------------------------------------------------------\u001b[0m",
      "\u001b[0;31mNameError\u001b[0m                                 Traceback (most recent call last)",
      "Cell \u001b[0;32mIn[11], line 1\u001b[0m\n\u001b[0;32m----> 1\u001b[0m result \u001b[38;5;241m=\u001b[39m \u001b[43mprint_time\u001b[49m(\u001b[38;5;241m11\u001b[39m, \u001b[38;5;241m37\u001b[39m, \u001b[38;5;241m59\u001b[39m)\n\u001b[1;32m      3\u001b[0m \u001b[38;5;28;01mdef\u001b[39;00m \u001b[38;5;21mprint_time\u001b[39m(hour, minute, second):\n\u001b[1;32m      4\u001b[0m    time_string \u001b[38;5;241m=\u001b[39m \u001b[38;5;28mstr\u001b[39m(hour) \u001b[38;5;241m+\u001b[39m \u001b[38;5;124m'\u001b[39m\u001b[38;5;124m:\u001b[39m\u001b[38;5;124m'\u001b[39m \u001b[38;5;241m+\u001b[39m \u001b[38;5;28mstr\u001b[39m(minute) \u001b[38;5;241m+\u001b[39m \u001b[38;5;124m'\u001b[39m\u001b[38;5;124m:\u001b[39m\u001b[38;5;124m'\u001b[39m \u001b[38;5;241m+\u001b[39m \u001b[38;5;28mstr\u001b[39m(second)\n",
      "\u001b[0;31mNameError\u001b[0m: name 'print_time' is not defined"
     ]
    }
   ],
   "source": [
    "result = print_time(11, 37, 59)\n",
    "\n",
    "def print_time(hour, minute, second):\n",
    "   time_string = str(hour) + ':' + str(minute) + ':' + str(second)\n",
    "   print(time_string)"
   ]
  },
  {
   "cell_type": "code",
   "execution_count": null,
   "id": "121ceb51-d065-4d79-ba6b-d55ae21a7891",
   "metadata": {},
   "outputs": [],
   "source": []
  }
 ],
 "metadata": {
  "kernelspec": {
   "display_name": "Python 3 (ipykernel)",
   "language": "python",
   "name": "python3"
  },
  "language_info": {
   "codemirror_mode": {
    "name": "ipython",
    "version": 3
   },
   "file_extension": ".py",
   "mimetype": "text/x-python",
   "name": "python",
   "nbconvert_exporter": "python",
   "pygments_lexer": "ipython3",
   "version": "3.13.1"
  }
 },
 "nbformat": 4,
 "nbformat_minor": 5
}
