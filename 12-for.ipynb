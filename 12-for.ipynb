{
 "cells": [
  {
   "cell_type": "markdown",
   "id": "5c2401ef-f260-4b11-a5f9-0dd217069c97",
   "metadata": {},
   "source": [
    "# For loops\n",
    "iterate over a list"
   ]
  },
  {
   "cell_type": "code",
   "execution_count": 3,
   "id": "4fd61eff-99a5-4738-acc2-35a223d1969e",
   "metadata": {},
   "outputs": [
    {
     "name": "stdout",
     "output_type": "stream",
     "text": [
      "1\n",
      "2\n",
      "3\n"
     ]
    }
   ],
   "source": [
    "#             collection\n",
    "#   loop var   |\n",
    "for number in [1,2,3]:\n",
    "    print(number)  # body"
   ]
  },
  {
   "cell_type": "code",
   "execution_count": 4,
   "id": "c7815ca6-e422-4774-b659-5c9fa9cc3598",
   "metadata": {},
   "outputs": [
    {
     "ename": "IndentationError",
     "evalue": "expected an indented block after 'for' statement on line 1 (2285504008.py, line 2)",
     "output_type": "error",
     "traceback": [
      "\u001b[0;36m  Cell \u001b[0;32mIn[4], line 2\u001b[0;36m\u001b[0m\n\u001b[0;31m    print(number)\u001b[0m\n\u001b[0m    ^\u001b[0m\n\u001b[0;31mIndentationError\u001b[0m\u001b[0;31m:\u001b[0m expected an indented block after 'for' statement on line 1\n"
     ]
    }
   ],
   "source": [
    "for number in [1,2,3]:\n",
    "print(number)"
   ]
  },
  {
   "cell_type": "markdown",
   "id": "3d66b8a6-fe70-44d5-8bdc-0affe5f27d46",
   "metadata": {},
   "source": [
    "A range is not a list (it is an _iterator_)"
   ]
  },
  {
   "cell_type": "code",
   "execution_count": 5,
   "id": "97760499-b96b-4e0f-af0b-32dec94c365e",
   "metadata": {},
   "outputs": [
    {
     "name": "stdout",
     "output_type": "stream",
     "text": [
      "range(0, 3)\n"
     ]
    }
   ],
   "source": [
    "print(range(0,3))"
   ]
  },
  {
   "cell_type": "code",
   "execution_count": 7,
   "id": "a8c1e8ae-7a2e-4f6e-abe3-8ac2a0c4faac",
   "metadata": {},
   "outputs": [
    {
     "name": "stdout",
     "output_type": "stream",
     "text": [
      "0\n",
      "1\n",
      "2\n"
     ]
    }
   ],
   "source": [
    "for number in range(0,3):\n",
    "    print(number)"
   ]
  },
  {
   "cell_type": "markdown",
   "id": "091d6238-f49d-4b15-8001-61616f2065a2",
   "metadata": {},
   "source": [
    "The accumulator pattern:"
   ]
  },
  {
   "cell_type": "code",
   "execution_count": 8,
   "id": "8e505339-1257-462e-b916-eee12b9364e7",
   "metadata": {},
   "outputs": [
    {
     "name": "stdout",
     "output_type": "stream",
     "text": [
      "55\n"
     ]
    }
   ],
   "source": [
    "total = 0  # initial value\n",
    "for number in range(10):\n",
    "    total = total + (number + 1)\n",
    "print(total)"
   ]
  },
  {
   "cell_type": "markdown",
   "id": "06174bf1-467e-4316-8835-e8bf8eb4c2ef",
   "metadata": {},
   "source": [
    "Alternative form uses '+='"
   ]
  },
  {
   "cell_type": "code",
   "execution_count": 9,
   "id": "efbcb643-8e64-4f1b-83be-2afd9c6ec180",
   "metadata": {},
   "outputs": [
    {
     "name": "stdout",
     "output_type": "stream",
     "text": [
      "55\n"
     ]
    }
   ],
   "source": [
    "total = 0\n",
    "for number in range(10):\n",
    "    total += number + 1\n",
    "print(total)"
   ]
  },
  {
   "cell_type": "code",
   "execution_count": 10,
   "id": "adfd6260-6de1-427b-b18a-4c0dd9f9262b",
   "metadata": {},
   "outputs": [
    {
     "name": "stdout",
     "output_type": "stream",
     "text": [
      "char is t\n",
      "total is 1\n",
      "char is i\n",
      "total is 2\n",
      "char is n\n",
      "total is 3\n",
      "3\n"
     ]
    }
   ],
   "source": [
    "total = 0\n",
    "\n",
    "for char in \"tin\":\n",
    "    print('char is',char)\n",
    "    total = total + 1\n",
    "    print('total is',total)\n",
    "\n",
    "print(total)"
   ]
  },
  {
   "cell_type": "code",
   "execution_count": 12,
   "id": "8e235fc8-0e3b-439d-b181-73e49cf7e35b",
   "metadata": {},
   "outputs": [
    {
     "name": "stdout",
     "output_type": "stream",
     "text": [
      "nit\n"
     ]
    }
   ],
   "source": [
    "original = \"tin\"\n",
    "result = \"\"\n",
    "for char in original:\n",
    "    result = char + result\n",
    "print(result)"
   ]
  },
  {
   "cell_type": "code",
   "execution_count": null,
   "id": "0a6bb9b3-c9d4-4523-aae8-5e96a74eee27",
   "metadata": {},
   "outputs": [],
   "source": []
  }
 ],
 "metadata": {
  "kernelspec": {
   "display_name": "Python 3 (ipykernel)",
   "language": "python",
   "name": "python3"
  },
  "language_info": {
   "codemirror_mode": {
    "name": "ipython",
    "version": 3
   },
   "file_extension": ".py",
   "mimetype": "text/x-python",
   "name": "python",
   "nbconvert_exporter": "python",
   "pygments_lexer": "ipython3",
   "version": "3.13.1"
  }
 },
 "nbformat": 4,
 "nbformat_minor": 5
}
