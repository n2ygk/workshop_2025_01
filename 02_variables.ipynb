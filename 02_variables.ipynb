{
 "cells": [
  {
   "cell_type": "code",
   "execution_count": 1,
   "id": "6a4e2a0b-161a-4054-9b72-5ce1d3b59566",
   "metadata": {},
   "outputs": [],
   "source": [
    "age = 42\n",
    "first_name = 'Ahmed'"
   ]
  },
  {
   "cell_type": "code",
   "execution_count": 2,
   "id": "be97dcdb-40dd-441b-8ea7-5c4444895589",
   "metadata": {},
   "outputs": [
    {
     "name": "stdout",
     "output_type": "stream",
     "text": [
      "Ahmed is 42 years old\n"
     ]
    }
   ],
   "source": [
    "print(first_name, 'is', age, 'years old')"
   ]
  },
  {
   "cell_type": "code",
   "execution_count": 3,
   "id": "1ae3d72b-15fa-47ae-a990-8a08aa45b5c7",
   "metadata": {},
   "outputs": [],
   "source": [
    "# more slices\n",
    "species_name = 'Acacia buxifolia'"
   ]
  },
  {
   "cell_type": "code",
   "execution_count": 4,
   "id": "0dd5e1e0-7d46-4ba7-857c-29364ca0143e",
   "metadata": {},
   "outputs": [
    {
     "data": {
      "text/plain": [
       "'acia b'"
      ]
     },
     "execution_count": 4,
     "metadata": {},
     "output_type": "execute_result"
    }
   ],
   "source": [
    "species_name[2:8]"
   ]
  },
  {
   "cell_type": "code",
   "execution_count": 5,
   "id": "1a5affe1-c343-4dfa-a193-9b4833b3e7bc",
   "metadata": {},
   "outputs": [
    {
     "name": "stdout",
     "output_type": "stream",
     "text": [
      "012345678901234567890\n",
      "Acacia buxifolia\n"
     ]
    }
   ],
   "source": [
    "print('012345678901234567890')\n",
    "print(species_name)"
   ]
  },
  {
   "cell_type": "code",
   "execution_count": 6,
   "id": "b320008e-2964-4e01-b616-4067335ec4f8",
   "metadata": {},
   "outputs": [
    {
     "data": {
      "text/plain": [
       "'folia'"
      ]
     },
     "execution_count": 6,
     "metadata": {},
     "output_type": "execute_result"
    }
   ],
   "source": [
    "species_name[11:]"
   ]
  },
  {
   "cell_type": "code",
   "execution_count": 7,
   "id": "1215f83e-34f6-4eff-826d-deb2bf76d0ef",
   "metadata": {},
   "outputs": [
    {
     "data": {
      "text/plain": [
       "'Acac'"
      ]
     },
     "execution_count": 7,
     "metadata": {},
     "output_type": "execute_result"
    }
   ],
   "source": [
    "species_name[:4]\n"
   ]
  },
  {
   "cell_type": "code",
   "execution_count": 8,
   "id": "339530b6-765f-4f77-a7b3-137096b3891e",
   "metadata": {},
   "outputs": [
    {
     "data": {
      "text/plain": [
       "'Acacia buxifolia'"
      ]
     },
     "execution_count": 8,
     "metadata": {},
     "output_type": "execute_result"
    }
   ],
   "source": [
    "species_name[:]"
   ]
  },
  {
   "cell_type": "code",
   "execution_count": 9,
   "id": "ce9f737f-0f9b-4b37-8f19-66d26047a0e9",
   "metadata": {},
   "outputs": [
    {
     "data": {
      "text/plain": [
       "'fo'"
      ]
     },
     "execution_count": 9,
     "metadata": {},
     "output_type": "execute_result"
    }
   ],
   "source": [
    "species_name[11:-3]"
   ]
  },
  {
   "cell_type": "code",
   "execution_count": 10,
   "id": "c97b4f48-6f4c-4359-afcf-7d8f139ed94d",
   "metadata": {},
   "outputs": [
    {
     "data": {
      "text/plain": [
       "'fo'"
      ]
     },
     "execution_count": 10,
     "metadata": {},
     "output_type": "execute_result"
    }
   ],
   "source": [
    "species_name[-5:-3]"
   ]
  },
  {
   "cell_type": "code",
   "execution_count": 11,
   "id": "48680567-00f3-46ac-8e3d-05d852e404ce",
   "metadata": {},
   "outputs": [
    {
     "data": {
      "text/plain": [
       "'Acacia buxifolia'"
      ]
     },
     "execution_count": 11,
     "metadata": {},
     "output_type": "execute_result"
    }
   ],
   "source": [
    "species_name[0:20]"
   ]
  },
  {
   "cell_type": "code",
   "execution_count": 12,
   "id": "7a6125b4-92b6-45d9-b02a-9aa179f69204",
   "metadata": {},
   "outputs": [
    {
     "data": {
      "text/plain": [
       "'Acacia buxifolia'"
      ]
     },
     "execution_count": 12,
     "metadata": {},
     "output_type": "execute_result"
    }
   ],
   "source": [
    "species_name[:103]"
   ]
  },
  {
   "cell_type": "code",
   "execution_count": null,
   "id": "a72c34d1-5baf-49d9-82d3-ab33d6fbd887",
   "metadata": {},
   "outputs": [],
   "source": []
  }
 ],
 "metadata": {
  "kernelspec": {
   "display_name": "Python 3 (ipykernel)",
   "language": "python",
   "name": "python3"
  },
  "language_info": {
   "codemirror_mode": {
    "name": "ipython",
    "version": 3
   },
   "file_extension": ".py",
   "mimetype": "text/x-python",
   "name": "python",
   "nbconvert_exporter": "python",
   "pygments_lexer": "ipython3",
   "version": "3.13.1"
  }
 },
 "nbformat": 4,
 "nbformat_minor": 5
}
