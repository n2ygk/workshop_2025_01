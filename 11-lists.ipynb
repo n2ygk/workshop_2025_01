{
 "cells": [
  {
   "cell_type": "markdown",
   "id": "210099d8-ae55-403f-a465-38d719eac0dd",
   "metadata": {},
   "source": [
    "# Lists"
   ]
  },
  {
   "cell_type": "code",
   "execution_count": 1,
   "id": "8d32e56d-fa99-4234-9826-8abf194de2f8",
   "metadata": {},
   "outputs": [
    {
     "data": {
      "text/plain": [
       "[0.273, 0.275, 0.277, 0.275, 0.276]"
      ]
     },
     "execution_count": 1,
     "metadata": {},
     "output_type": "execute_result"
    }
   ],
   "source": [
    "pressures = [ 0.273, 0.275, 0.277, 0.275, 0.276 ]\n",
    "pressures"
   ]
  },
  {
   "cell_type": "code",
   "execution_count": 2,
   "id": "b8db54da-ad0c-4e61-a1fe-a5d020207949",
   "metadata": {},
   "outputs": [
    {
     "data": {
      "text/plain": [
       "5"
      ]
     },
     "execution_count": 2,
     "metadata": {},
     "output_type": "execute_result"
    }
   ],
   "source": [
    "len(pressures)"
   ]
  },
  {
   "cell_type": "code",
   "execution_count": 3,
   "id": "a10d7111-b9d1-48cc-a996-8976e4ad698b",
   "metadata": {},
   "outputs": [
    {
     "data": {
      "text/plain": [
       "0.273"
      ]
     },
     "execution_count": 3,
     "metadata": {},
     "output_type": "execute_result"
    }
   ],
   "source": [
    "pressures[0]"
   ]
  },
  {
   "cell_type": "code",
   "execution_count": 4,
   "id": "c08c8a53-57ed-46b3-a5d0-15f00aaee27b",
   "metadata": {},
   "outputs": [
    {
     "data": {
      "text/plain": [
       "0.276"
      ]
     },
     "execution_count": 4,
     "metadata": {},
     "output_type": "execute_result"
    }
   ],
   "source": [
    "pressures[4]"
   ]
  },
  {
   "cell_type": "code",
   "execution_count": 5,
   "id": "6d282f20-6511-4d9c-ad8b-21ec84088938",
   "metadata": {},
   "outputs": [
    {
     "data": {
      "text/plain": [
       "[0.265, 0.275, 0.277, 0.275, 0.276]"
      ]
     },
     "execution_count": 5,
     "metadata": {},
     "output_type": "execute_result"
    }
   ],
   "source": [
    "pressures[0] = 0.265\n",
    "pressures"
   ]
  },
  {
   "cell_type": "code",
   "execution_count": 6,
   "id": "0544101a-ce7b-45e1-90e0-2e51f2a652c0",
   "metadata": {},
   "outputs": [
    {
     "name": "stdout",
     "output_type": "stream",
     "text": [
      "[2, 3, 5]\n",
      "[2, 3, 5, 7]\n"
     ]
    }
   ],
   "source": [
    "primes= [2,3,5]\n",
    "print(primes)\n",
    "primes.append(7) # append method\n",
    "print(primes)"
   ]
  },
  {
   "cell_type": "code",
   "execution_count": 7,
   "id": "568afe4c-86f3-4ed5-9208-880cda9772f9",
   "metadata": {},
   "outputs": [
    {
     "data": {
      "text/plain": [
       "[2, 5, 7]"
      ]
     },
     "execution_count": 7,
     "metadata": {},
     "output_type": "execute_result"
    }
   ],
   "source": [
    "del primes[1]\n",
    "primes"
   ]
  },
  {
   "cell_type": "code",
   "execution_count": 8,
   "id": "32b3dd3e-d137-4807-84dd-3fe8fefe003d",
   "metadata": {},
   "outputs": [
    {
     "data": {
      "text/plain": [
       "[]"
      ]
     },
     "execution_count": 8,
     "metadata": {},
     "output_type": "execute_result"
    }
   ],
   "source": [
    "[]"
   ]
  },
  {
   "cell_type": "code",
   "execution_count": 9,
   "id": "8c5c651a-67f9-48df-84b5-5b95853ddba4",
   "metadata": {},
   "outputs": [
    {
     "data": {
      "text/plain": [
       "[1, 'create lists.', 2, 'extract items.', 3, 'modify.']"
      ]
     },
     "execution_count": 9,
     "metadata": {},
     "output_type": "execute_result"
    }
   ],
   "source": [
    "goals=[1, 'create lists.', 2, 'extract items.', 3, 'modify.']\n",
    "goals"
   ]
  },
  {
   "cell_type": "markdown",
   "id": "7c2e82f5-4699-4950-b722-d473d64acef2",
   "metadata": {},
   "source": [
    "character strings are also collections like lists but are a special case:"
   ]
  },
  {
   "cell_type": "code",
   "execution_count": 10,
   "id": "1ff0a8ce-cd99-4960-8a1a-c7cd07f559bb",
   "metadata": {},
   "outputs": [
    {
     "data": {
      "text/plain": [
       "'c'"
      ]
     },
     "execution_count": 10,
     "metadata": {},
     "output_type": "execute_result"
    }
   ],
   "source": [
    "element = 'carbon'\n",
    "element[0]"
   ]
  },
  {
   "cell_type": "code",
   "execution_count": 12,
   "id": "60c84818-0586-45a3-a3ed-c20b1b9a6791",
   "metadata": {},
   "outputs": [
    {
     "ename": "TypeError",
     "evalue": "'str' object does not support item assignment",
     "output_type": "error",
     "traceback": [
      "\u001b[0;31m---------------------------------------------------------------------------\u001b[0m",
      "\u001b[0;31mTypeError\u001b[0m                                 Traceback (most recent call last)",
      "Cell \u001b[0;32mIn[12], line 1\u001b[0m\n\u001b[0;32m----> 1\u001b[0m \u001b[43melement\u001b[49m\u001b[43m[\u001b[49m\u001b[38;5;241;43m3\u001b[39;49m\u001b[43m]\u001b[49m \u001b[38;5;241m=\u001b[39m \u001b[38;5;124m'\u001b[39m\u001b[38;5;124mx\u001b[39m\u001b[38;5;124m'\u001b[39m \u001b[38;5;66;03m# strs are immutable!\u001b[39;00m\n",
      "\u001b[0;31mTypeError\u001b[0m: 'str' object does not support item assignment"
     ]
    }
   ],
   "source": [
    "element[3] = 'x' # strs are immutable!"
   ]
  },
  {
   "cell_type": "code",
   "execution_count": 13,
   "id": "62840925-a65d-45d7-8017-dc5fa16ad312",
   "metadata": {},
   "outputs": [
    {
     "ename": "IndexError",
     "evalue": "string index out of range",
     "output_type": "error",
     "traceback": [
      "\u001b[0;31m---------------------------------------------------------------------------\u001b[0m",
      "\u001b[0;31mIndexError\u001b[0m                                Traceback (most recent call last)",
      "Cell \u001b[0;32mIn[13], line 1\u001b[0m\n\u001b[0;32m----> 1\u001b[0m \u001b[43melement\u001b[49m\u001b[43m[\u001b[49m\u001b[38;5;241;43m99\u001b[39;49m\u001b[43m]\u001b[49m\n",
      "\u001b[0;31mIndexError\u001b[0m: string index out of range"
     ]
    }
   ],
   "source": [
    "element[99]"
   ]
  },
  {
   "cell_type": "code",
   "execution_count": null,
   "id": "aaa1a210-cbd8-4c91-95ab-b2f611f2245e",
   "metadata": {},
   "outputs": [],
   "source": []
  }
 ],
 "metadata": {
  "kernelspec": {
   "display_name": "Python 3 (ipykernel)",
   "language": "python",
   "name": "python3"
  },
  "language_info": {
   "codemirror_mode": {
    "name": "ipython",
    "version": 3
   },
   "file_extension": ".py",
   "mimetype": "text/x-python",
   "name": "python",
   "nbconvert_exporter": "python",
   "pygments_lexer": "ipython3",
   "version": "3.13.1"
  }
 },
 "nbformat": 4,
 "nbformat_minor": 5
}
