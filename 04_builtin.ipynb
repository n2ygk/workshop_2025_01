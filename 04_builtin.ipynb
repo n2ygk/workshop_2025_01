{
 "cells": [
  {
   "cell_type": "markdown",
   "id": "bd4b36dc-5dd0-493a-b63c-2086817eac10",
   "metadata": {},
   "source": [
    "# Built-in functions and help"
   ]
  },
  {
   "cell_type": "code",
   "execution_count": 1,
   "id": "3711fb29-7a51-4706-a46a-c4a89355c938",
   "metadata": {},
   "outputs": [
    {
     "name": "stdout",
     "output_type": "stream",
     "text": [
      "before\n",
      "\n",
      "after\n"
     ]
    }
   ],
   "source": [
    "# we've been using a built-in function a lot: print.\n",
    "print('before')\n",
    "print()\n",
    "print('after')"
   ]
  },
  {
   "cell_type": "markdown",
   "id": "8f862489-fa56-4393-b026-e3d55e4fd84a",
   "metadata": {},
   "source": [
    "Functions always return a value.\n",
    "It may or may not be a _useful_ value."
   ]
  },
  {
   "cell_type": "code",
   "execution_count": 2,
   "id": "c62fb783-b7d7-4be5-a977-941d7076d475",
   "metadata": {},
   "outputs": [
    {
     "name": "stdout",
     "output_type": "stream",
     "text": [
      "example\n",
      "result of print is None\n"
     ]
    }
   ],
   "source": [
    "result = print('example')\n",
    "print('result of print is', result)"
   ]
  },
  {
   "cell_type": "markdown",
   "id": "b27e1d66-f2f6-4117-a0d8-7780a751055c",
   "metadata": {},
   "source": [
    "Some common built in math functions"
   ]
  },
  {
   "cell_type": "code",
   "execution_count": 3,
   "id": "c8711cdd-f648-4442-92dc-b85ff7ce27c3",
   "metadata": {},
   "outputs": [
    {
     "data": {
      "text/plain": [
       "3"
      ]
     },
     "execution_count": 3,
     "metadata": {},
     "output_type": "execute_result"
    }
   ],
   "source": [
    "max(1,2,3)"
   ]
  },
  {
   "cell_type": "code",
   "execution_count": 4,
   "id": "5881e713-65b6-41eb-a2be-4ea21b367572",
   "metadata": {},
   "outputs": [
    {
     "data": {
      "text/plain": [
       "'0'"
      ]
     },
     "execution_count": 4,
     "metadata": {},
     "output_type": "execute_result"
    }
   ],
   "source": [
    "min('a', 'A', '0')"
   ]
  },
  {
   "cell_type": "code",
   "execution_count": 5,
   "id": "ed17825c-c6ac-46e9-8d0e-1772e302f5ca",
   "metadata": {},
   "outputs": [
    {
     "ename": "TypeError",
     "evalue": "'>' not supported between instances of 'str' and 'int'",
     "output_type": "error",
     "traceback": [
      "\u001b[0;31m---------------------------------------------------------------------------\u001b[0m",
      "\u001b[0;31mTypeError\u001b[0m                                 Traceback (most recent call last)",
      "Cell \u001b[0;32mIn[5], line 1\u001b[0m\n\u001b[0;32m----> 1\u001b[0m \u001b[38;5;28;43mmax\u001b[39;49m\u001b[43m(\u001b[49m\u001b[38;5;241;43m1\u001b[39;49m\u001b[43m,\u001b[49m\u001b[38;5;124;43m'\u001b[39;49m\u001b[38;5;124;43ma\u001b[39;49m\u001b[38;5;124;43m'\u001b[39;49m\u001b[43m)\u001b[49m\n",
      "\u001b[0;31mTypeError\u001b[0m: '>' not supported between instances of 'str' and 'int'"
     ]
    }
   ],
   "source": [
    "max(1,'a')"
   ]
  },
  {
   "cell_type": "markdown",
   "id": "838a832e-d019-4026-86aa-05facfa3dc44",
   "metadata": {},
   "source": [
    "default arguments:"
   ]
  },
  {
   "cell_type": "code",
   "execution_count": 7,
   "id": "24ed403e-1e0e-4115-a70f-7d16f71f917e",
   "metadata": {},
   "outputs": [
    {
     "data": {
      "text/plain": [
       "4"
      ]
     },
     "execution_count": 7,
     "metadata": {},
     "output_type": "execute_result"
    }
   ],
   "source": [
    "round(3.712345)"
   ]
  },
  {
   "cell_type": "code",
   "execution_count": 8,
   "id": "d26c6106-e3e6-4439-ab27-fc24b5a22c91",
   "metadata": {},
   "outputs": [
    {
     "data": {
      "text/plain": [
       "3.71"
      ]
     },
     "execution_count": 8,
     "metadata": {},
     "output_type": "execute_result"
    }
   ],
   "source": [
    "round(3.712345,2)"
   ]
  },
  {
   "cell_type": "markdown",
   "id": "3b882506-cd28-47a5-b9ac-75f8cb0456c1",
   "metadata": {},
   "source": [
    "These things with types are generically called objects.\n",
    "Objects can have functions called _methods_ associated with them that perform a function that is applicable to the object's type."
   ]
  },
  {
   "cell_type": "code",
   "execution_count": 9,
   "id": "9019a684-f0f3-4532-883f-bf6e8a9a6868",
   "metadata": {},
   "outputs": [
    {
     "data": {
      "text/plain": [
       "11"
      ]
     },
     "execution_count": 9,
     "metadata": {},
     "output_type": "execute_result"
    }
   ],
   "source": [
    "len('hello world')"
   ]
  },
  {
   "cell_type": "code",
   "execution_count": 10,
   "id": "71010b31-9644-4a6d-9d03-36561f0f5835",
   "metadata": {},
   "outputs": [
    {
     "data": {
      "text/plain": [
       "11"
      ]
     },
     "execution_count": 10,
     "metadata": {},
     "output_type": "execute_result"
    }
   ],
   "source": [
    "'hello_world'.__len__()"
   ]
  },
  {
   "cell_type": "code",
   "execution_count": 11,
   "id": "e032056e-530a-4b34-b5c8-637fa30c0d5b",
   "metadata": {},
   "outputs": [],
   "source": [
    "my_string='Hello world!'"
   ]
  },
  {
   "cell_type": "code",
   "execution_count": 12,
   "id": "ff68b3eb-5b27-4f79-8854-d239b687ac8a",
   "metadata": {},
   "outputs": [
    {
     "data": {
      "text/plain": [
       "'hELLO WORLD!'"
      ]
     },
     "execution_count": 12,
     "metadata": {},
     "output_type": "execute_result"
    }
   ],
   "source": [
    "my_string.swapcase()"
   ]
  },
  {
   "cell_type": "code",
   "execution_count": 13,
   "id": "3b5fcdbf-6015-443a-a3b0-89d3349f9fdc",
   "metadata": {},
   "outputs": [
    {
     "data": {
      "text/plain": [
       "False"
      ]
     },
     "execution_count": 13,
     "metadata": {},
     "output_type": "execute_result"
    }
   ],
   "source": [
    "my_string.isupper()"
   ]
  },
  {
   "cell_type": "code",
   "execution_count": 14,
   "id": "0cc1a6ea-8fe5-4620-8c75-60dac3c30828",
   "metadata": {},
   "outputs": [
    {
     "data": {
      "text/plain": [
       "'HELLO WORLD!'"
      ]
     },
     "execution_count": 14,
     "metadata": {},
     "output_type": "execute_result"
    }
   ],
   "source": [
    "my_string.upper()"
   ]
  },
  {
   "cell_type": "code",
   "execution_count": 16,
   "id": "10535290-e502-4b51-9a95-8028c17cda9b",
   "metadata": {},
   "outputs": [
    {
     "data": {
      "text/plain": [
       "True"
      ]
     },
     "execution_count": 16,
     "metadata": {},
     "output_type": "execute_result"
    }
   ],
   "source": [
    "my_string.upper().isupper()"
   ]
  },
  {
   "cell_type": "code",
   "execution_count": 17,
   "id": "445541a1-c5a1-4646-8112-e82c0b2ce9ae",
   "metadata": {},
   "outputs": [
    {
     "name": "stdout",
     "output_type": "stream",
     "text": [
      "Help on built-in function round in module builtins:\n",
      "\n",
      "round(number, ndigits=None)\n",
      "    Round a number to a given precision in decimal digits.\n",
      "\n",
      "    The return value is an integer if ndigits is omitted or None.  Otherwise\n",
      "    the return value has the same type as the number.  ndigits may be negative.\n",
      "\n"
     ]
    }
   ],
   "source": [
    "help(round)"
   ]
  },
  {
   "cell_type": "code",
   "execution_count": null,
   "id": "04e72825-f50b-45d1-b4e5-8d3d0c7811aa",
   "metadata": {},
   "outputs": [],
   "source": [
    "round"
   ]
  }
 ],
 "metadata": {
  "kernelspec": {
   "display_name": "Python 3 (ipykernel)",
   "language": "python",
   "name": "python3"
  },
  "language_info": {
   "codemirror_mode": {
    "name": "ipython",
    "version": 3
   },
   "file_extension": ".py",
   "mimetype": "text/x-python",
   "name": "python",
   "nbconvert_exporter": "python",
   "pygments_lexer": "ipython3",
   "version": "3.13.1"
  }
 },
 "nbformat": 4,
 "nbformat_minor": 5
}
