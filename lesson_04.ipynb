{
 "cells": [
  {
   "cell_type": "markdown",
   "id": "84eecc79-c723-43ba-b7d1-95c55d8a2e18",
   "metadata": {},
   "source": [
    "# Comments in Markdown\n",
    "\n",
    "but can also write comments in Python code, confusingly, also with `#` as in this example:\n",
    "```python\n",
    "# this is a comment in python\n",
    "print(\"hello, world\")\n",
    "```\n",
    "\n",
    "```C\n",
    "/* this is C code */\n",
    "printf(\"Hello, world!\\n\")\n",
    "```"
   ]
  },
  {
   "cell_type": "code",
   "execution_count": 2,
   "id": "bddd1a11-9dd3-42dc-8cb8-c2299f351f9d",
   "metadata": {},
   "outputs": [
    {
     "name": "stdout",
     "output_type": "stream",
     "text": [
      "hello ,world\n"
     ]
    }
   ],
   "source": [
    "# this is a comment in python\n",
    "print(\"hello ,world\")  # or at end of line."
   ]
  },
  {
   "cell_type": "code",
   "execution_count": 3,
   "id": "c3fb4d4f-bf06-47e8-ad61-8a844bbe412a",
   "metadata": {},
   "outputs": [
    {
     "name": "stdout",
     "output_type": "stream",
     "text": [
      "before\n",
      "\n",
      "after\n"
     ]
    }
   ],
   "source": [
    "print(\"before\")\n",
    "print()\n",
    "print(\"after\")"
   ]
  },
  {
   "cell_type": "code",
   "execution_count": 4,
   "id": "bb1ad75f-79ff-4c06-86b5-b0a10a05cb6c",
   "metadata": {},
   "outputs": [
    {
     "name": "stdout",
     "output_type": "stream",
     "text": [
      "hi there\n",
      "None\n"
     ]
    }
   ],
   "source": [
    "result = print(\"hi there\")\n",
    "print(result)"
   ]
  },
  {
   "cell_type": "code",
   "execution_count": 5,
   "id": "1da20703-8c4f-4344-8797-52e14d4258d0",
   "metadata": {},
   "outputs": [
    {
     "data": {
      "text/plain": [
       "NoneType"
      ]
     },
     "execution_count": 5,
     "metadata": {},
     "output_type": "execute_result"
    }
   ],
   "source": [
    "type(None)"
   ]
  },
  {
   "cell_type": "code",
   "execution_count": 6,
   "id": "7b1a5f68-bd26-4e52-bfab-2e3441bb8a21",
   "metadata": {},
   "outputs": [
    {
     "name": "stdout",
     "output_type": "stream",
     "text": [
      "3\n",
      "0\n"
     ]
    }
   ],
   "source": [
    "print(max(1, 2, 3))\n",
    "print(min('a', 'A', '0'))"
   ]
  },
  {
   "cell_type": "code",
   "execution_count": 7,
   "id": "92a8f4f2-9781-49be-863d-2b8e17f86701",
   "metadata": {},
   "outputs": [
    {
     "name": "stdout",
     "output_type": "stream",
     "text": [
      "3\n"
     ]
    }
   ],
   "source": [
    "result = max(1, 2, 3)\n",
    "print(result)"
   ]
  },
  {
   "cell_type": "code",
   "execution_count": 8,
   "id": "f38dee6f-b105-4d77-8309-bb060c62162b",
   "metadata": {},
   "outputs": [
    {
     "ename": "TypeError",
     "evalue": "'>' not supported between instances of 'str' and 'int'",
     "output_type": "error",
     "traceback": [
      "\u001b[0;31m---------------------------------------------------------------------------\u001b[0m",
      "\u001b[0;31mTypeError\u001b[0m                                 Traceback (most recent call last)",
      "Cell \u001b[0;32mIn[8], line 1\u001b[0m\n\u001b[0;32m----> 1\u001b[0m \u001b[38;5;28mprint\u001b[39m(\u001b[38;5;28;43mmax\u001b[39;49m\u001b[43m(\u001b[49m\u001b[38;5;241;43m1\u001b[39;49m\u001b[43m,\u001b[49m\u001b[43m \u001b[49m\u001b[38;5;124;43m'\u001b[39;49m\u001b[38;5;124;43ma\u001b[39;49m\u001b[38;5;124;43m'\u001b[39;49m\u001b[43m)\u001b[49m)\n",
      "\u001b[0;31mTypeError\u001b[0m: '>' not supported between instances of 'str' and 'int'"
     ]
    }
   ],
   "source": [
    "print(max(1, 'a'))"
   ]
  },
  {
   "cell_type": "code",
   "execution_count": 9,
   "id": "426eec93-a712-473a-b1af-852bf84b8446",
   "metadata": {},
   "outputs": [
    {
     "data": {
      "text/plain": [
       "3"
      ]
     },
     "execution_count": 9,
     "metadata": {},
     "output_type": "execute_result"
    }
   ],
   "source": [
    "round(3.1234)"
   ]
  },
  {
   "cell_type": "code",
   "execution_count": 10,
   "id": "d0153e30-2287-4675-8bef-7a3a3372b2fd",
   "metadata": {},
   "outputs": [
    {
     "data": {
      "text/plain": [
       "3.1"
      ]
     },
     "execution_count": 10,
     "metadata": {},
     "output_type": "execute_result"
    }
   ],
   "source": [
    "round(3.1245, 1)"
   ]
  },
  {
   "cell_type": "code",
   "execution_count": 11,
   "id": "d53683af-fad6-4cfc-b103-40085ba55dfc",
   "metadata": {},
   "outputs": [
    {
     "name": "stdout",
     "output_type": "stream",
     "text": [
      "Help on built-in function round in module builtins:\n",
      "\n",
      "round(number, ndigits=None)\n",
      "    Round a number to a given precision in decimal digits.\n",
      "\n",
      "    The return value is an integer if ndigits is omitted or None.  Otherwise\n",
      "    the return value has the same type as the number.  ndigits may be negative.\n",
      "\n"
     ]
    }
   ],
   "source": [
    "help(round)"
   ]
  },
  {
   "cell_type": "code",
   "execution_count": 13,
   "id": "0c89da65-8666-4e82-97ea-dfdd2ffb81a6",
   "metadata": {},
   "outputs": [
    {
     "data": {
      "text/plain": [
       "123000.0"
      ]
     },
     "execution_count": 13,
     "metadata": {},
     "output_type": "execute_result"
    }
   ],
   "source": [
    "round(123453.12345, -3)"
   ]
  },
  {
   "cell_type": "markdown",
   "id": "7885a3c8-edb1-4e73-a2b8-ad62e824192d",
   "metadata": {},
   "source": [
    "# methods\n",
    "\n",
    "methods are functions _attached_ to objects"
   ]
  },
  {
   "cell_type": "code",
   "execution_count": 15,
   "id": "f5949dae-e0af-4c15-bd12-3c72709b1237",
   "metadata": {},
   "outputs": [],
   "source": [
    "my_string = \"Hello world!\""
   ]
  },
  {
   "cell_type": "code",
   "execution_count": 16,
   "id": "dec6e521-8659-42f6-bd58-f5499a55973c",
   "metadata": {},
   "outputs": [
    {
     "data": {
      "text/plain": [
       "'Hello world!'"
      ]
     },
     "execution_count": 16,
     "metadata": {},
     "output_type": "execute_result"
    }
   ],
   "source": [
    "my_string"
   ]
  },
  {
   "cell_type": "code",
   "execution_count": 17,
   "id": "3ee554ac-55da-4d7e-aea5-297593ba3b46",
   "metadata": {},
   "outputs": [
    {
     "data": {
      "text/plain": [
       "'hELLO WORLD!'"
      ]
     },
     "execution_count": 17,
     "metadata": {},
     "output_type": "execute_result"
    }
   ],
   "source": [
    "my_string.swapcase()"
   ]
  },
  {
   "cell_type": "code",
   "execution_count": 18,
   "id": "547c7420-f465-46e7-9a19-f34857ebed1b",
   "metadata": {},
   "outputs": [
    {
     "data": {
      "text/plain": [
       "False"
      ]
     },
     "execution_count": 18,
     "metadata": {},
     "output_type": "execute_result"
    }
   ],
   "source": [
    "my_string.isupper()"
   ]
  },
  {
   "cell_type": "code",
   "execution_count": 19,
   "id": "135b9a8b-eb6e-49ec-b38b-9bacd265bb44",
   "metadata": {},
   "outputs": [
    {
     "data": {
      "text/plain": [
       "'HELLO WORLD!'"
      ]
     },
     "execution_count": 19,
     "metadata": {},
     "output_type": "execute_result"
    }
   ],
   "source": [
    "my_string.upper()"
   ]
  },
  {
   "cell_type": "code",
   "execution_count": 20,
   "id": "5de94193-c836-4c0d-981f-941d50c46348",
   "metadata": {},
   "outputs": [
    {
     "data": {
      "text/plain": [
       "True"
      ]
     },
     "execution_count": 20,
     "metadata": {},
     "output_type": "execute_result"
    }
   ],
   "source": [
    "my_string.upper().isupper()"
   ]
  },
  {
   "cell_type": "code",
   "execution_count": 21,
   "id": "1530d034-5a5d-4c3f-ac81-083c8d986de2",
   "metadata": {},
   "outputs": [
    {
     "data": {
      "text/plain": [
       "12"
      ]
     },
     "execution_count": 21,
     "metadata": {},
     "output_type": "execute_result"
    }
   ],
   "source": [
    "my_string.__len__()"
   ]
  },
  {
   "cell_type": "code",
   "execution_count": 22,
   "id": "55d48dbf-0356-496c-ba34-e85c363d209f",
   "metadata": {},
   "outputs": [
    {
     "data": {
      "text/plain": [
       "12"
      ]
     },
     "execution_count": 22,
     "metadata": {},
     "output_type": "execute_result"
    }
   ],
   "source": [
    "len(my_string)"
   ]
  },
  {
   "cell_type": "code",
   "execution_count": 23,
   "id": "be2dbe30-a151-425c-97f4-6853f88d3080",
   "metadata": {},
   "outputs": [
    {
     "name": "stdout",
     "output_type": "stream",
     "text": [
      "Help on built-in function round in module builtins:\n",
      "\n",
      "round(number, ndigits=None)\n",
      "    Round a number to a given precision in decimal digits.\n",
      "\n",
      "    The return value is an integer if ndigits is omitted or None.  Otherwise\n",
      "    the return value has the same type as the number.  ndigits may be negative.\n",
      "\n"
     ]
    }
   ],
   "source": [
    "help(round)"
   ]
  },
  {
   "cell_type": "markdown",
   "id": "07513fed-0517-4eb9-959b-7d650d0f8883",
   "metadata": {},
   "source": [
    "See the Python Documentation at: https://docs.python.org/3/library/"
   ]
  },
  {
   "cell_type": "code",
   "execution_count": null,
   "id": "50685ad4-b4e9-4fc7-adbd-2d32d5e0c568",
   "metadata": {},
   "outputs": [],
   "source": []
  }
 ],
 "metadata": {
  "kernelspec": {
   "display_name": "Python 3 (ipykernel)",
   "language": "python",
   "name": "python3"
  },
  "language_info": {
   "codemirror_mode": {
    "name": "ipython",
    "version": 3
   },
   "file_extension": ".py",
   "mimetype": "text/x-python",
   "name": "python",
   "nbconvert_exporter": "python",
   "pygments_lexer": "ipython3",
   "version": "3.13.1"
  }
 },
 "nbformat": 4,
 "nbformat_minor": 5
}
