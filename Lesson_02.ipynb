{
 "cells": [
  {
   "cell_type": "markdown",
   "id": "c2c7fea8-fb88-4713-a3a6-bcf64ba5c683",
   "metadata": {},
   "source": [
    "# Lesson 2\n",
    "\n",
    "## Variables"
   ]
  },
  {
   "cell_type": "code",
   "execution_count": 1,
   "id": "50a65e8a-1c4c-4822-b9e1-d140535bd127",
   "metadata": {},
   "outputs": [],
   "source": [
    "age = 42\n",
    "first_name = \"Ahmed\""
   ]
  },
  {
   "cell_type": "code",
   "execution_count": 2,
   "id": "df9ba2ea-ce63-488d-a768-5f5ce55b3b32",
   "metadata": {},
   "outputs": [
    {
     "name": "stdout",
     "output_type": "stream",
     "text": [
      "Ahmed is 42 years old.\n"
     ]
    }
   ],
   "source": [
    "print(first_name, \"is\", age, \"years old.\")"
   ]
  },
  {
   "cell_type": "code",
   "execution_count": 3,
   "id": "381331db-b37a-4fb5-b5fe-e7750b9f14c6",
   "metadata": {},
   "outputs": [
    {
     "ename": "NameError",
     "evalue": "name 'last_name' is not defined",
     "output_type": "error",
     "traceback": [
      "\u001b[0;31m---------------------------------------------------------------------------\u001b[0m",
      "\u001b[0;31mNameError\u001b[0m                                 Traceback (most recent call last)",
      "Cell \u001b[0;32mIn[3], line 1\u001b[0m\n\u001b[0;32m----> 1\u001b[0m \u001b[38;5;28mprint\u001b[39m(\u001b[43mlast_name\u001b[49m)\n",
      "\u001b[0;31mNameError\u001b[0m: name 'last_name' is not defined"
     ]
    }
   ],
   "source": [
    "print(last_name)"
   ]
  },
  {
   "cell_type": "code",
   "execution_count": null,
   "id": "9a4bdcce-3702-427c-a3d7-c93f54b09d55",
   "metadata": {},
   "outputs": [],
   "source": [
    "print(age)"
   ]
  },
  {
   "cell_type": "code",
   "execution_count": null,
   "id": "f70465d1-1552-4268-a524-9949bfb49991",
   "metadata": {},
   "outputs": [],
   "source": [
    "age = 44"
   ]
  },
  {
   "cell_type": "code",
   "execution_count": null,
   "id": "6fb71ab6-413e-436d-8515-07fdfc2e79bf",
   "metadata": {},
   "outputs": [],
   "source": [
    "print(age)"
   ]
  },
  {
   "cell_type": "code",
   "execution_count": 6,
   "id": "b698f7db-4efe-4dcc-a8d7-0cd4f7f31690",
   "metadata": {},
   "outputs": [
    {
     "name": "stdout",
     "output_type": "stream",
     "text": [
      "age is now 51\n"
     ]
    }
   ],
   "source": [
    "age = age + 3\n",
    "print(\"age is now\", age)"
   ]
  },
  {
   "cell_type": "markdown",
   "id": "8349aa83-6ac6-4b20-94ce-0e350b7ddd30",
   "metadata": {},
   "source": [
    "# string indexing"
   ]
  },
  {
   "cell_type": "code",
   "execution_count": 7,
   "id": "cffb6b7c-372e-4941-91cd-997bca7dbdaa",
   "metadata": {},
   "outputs": [],
   "source": [
    "atom_name = 'helium'"
   ]
  },
  {
   "cell_type": "code",
   "execution_count": 8,
   "id": "9dc4f72c-199d-4002-ac60-2437085136db",
   "metadata": {},
   "outputs": [
    {
     "name": "stdout",
     "output_type": "stream",
     "text": [
      "h\n"
     ]
    }
   ],
   "source": [
    "print(atom_name[0])"
   ]
  },
  {
   "cell_type": "code",
   "execution_count": 9,
   "id": "3658dc16-f9da-4919-a755-3ff930551714",
   "metadata": {},
   "outputs": [
    {
     "name": "stdout",
     "output_type": "stream",
     "text": [
      "hel\n"
     ]
    }
   ],
   "source": [
    "print(atom_name[0:3])"
   ]
  },
  {
   "cell_type": "code",
   "execution_count": 10,
   "id": "eedb7067-ea2a-4ece-9016-60dbc9cf66a8",
   "metadata": {},
   "outputs": [
    {
     "name": "stdout",
     "output_type": "stream",
     "text": [
      "6\n"
     ]
    }
   ],
   "source": [
    "print(len(atom_name))"
   ]
  },
  {
   "cell_type": "code",
   "execution_count": 11,
   "id": "c66d5855-c1e7-46ca-a714-1002d29c010b",
   "metadata": {},
   "outputs": [
    {
     "ename": "IndexError",
     "evalue": "string index out of range",
     "output_type": "error",
     "traceback": [
      "\u001b[0;31m---------------------------------------------------------------------------\u001b[0m",
      "\u001b[0;31mIndexError\u001b[0m                                Traceback (most recent call last)",
      "Cell \u001b[0;32mIn[11], line 1\u001b[0m\n\u001b[0;32m----> 1\u001b[0m \u001b[38;5;28mprint\u001b[39m(\u001b[43matom_name\u001b[49m\u001b[43m[\u001b[49m\u001b[38;5;241;43m6\u001b[39;49m\u001b[43m]\u001b[49m)\n",
      "\u001b[0;31mIndexError\u001b[0m: string index out of range"
     ]
    }
   ],
   "source": [
    "print(atom_name[6])"
   ]
  },
  {
   "cell_type": "code",
   "execution_count": 12,
   "id": "81ca31df-9d01-4056-9b12-c11bf26d7081",
   "metadata": {},
   "outputs": [],
   "source": [
    "fred = 'helium'"
   ]
  },
  {
   "cell_type": "code",
   "execution_count": 13,
   "id": "98521696-e737-4814-815b-b9319f1907ff",
   "metadata": {},
   "outputs": [
    {
     "name": "stdout",
     "output_type": "stream",
     "text": [
      "1.0\n"
     ]
    }
   ],
   "source": [
    "x = 1.0\n",
    "print(x)"
   ]
  },
  {
   "cell_type": "code",
   "execution_count": 14,
   "id": "9f37bf7f-abfd-4998-9544-88b82a7076fd",
   "metadata": {},
   "outputs": [
    {
     "ename": "NameError",
     "evalue": "name 'y' is not defined",
     "output_type": "error",
     "traceback": [
      "\u001b[0;31m---------------------------------------------------------------------------\u001b[0m",
      "\u001b[0;31mNameError\u001b[0m                                 Traceback (most recent call last)",
      "Cell \u001b[0;32mIn[14], line 1\u001b[0m\n\u001b[0;32m----> 1\u001b[0m \u001b[38;5;28mprint\u001b[39m(\u001b[43my\u001b[49m)\n",
      "\u001b[0;31mNameError\u001b[0m: name 'y' is not defined"
     ]
    }
   ],
   "source": [
    "print(y)"
   ]
  },
  {
   "cell_type": "code",
   "execution_count": 15,
   "id": "f9f7fcd9-8370-466d-b723-a292b0a2156a",
   "metadata": {},
   "outputs": [
    {
     "ename": "NameError",
     "evalue": "name 'swap' is not defined",
     "output_type": "error",
     "traceback": [
      "\u001b[0;31m---------------------------------------------------------------------------\u001b[0m",
      "\u001b[0;31mNameError\u001b[0m                                 Traceback (most recent call last)",
      "Cell \u001b[0;32mIn[15], line 1\u001b[0m\n\u001b[0;32m----> 1\u001b[0m \u001b[38;5;28mprint\u001b[39m(\u001b[43mswap\u001b[49m)\n",
      "\u001b[0;31mNameError\u001b[0m: name 'swap' is not defined"
     ]
    }
   ],
   "source": [
    "print(swap)"
   ]
  },
  {
   "cell_type": "code",
   "execution_count": 16,
   "id": "caa71635-e4d6-41aa-9c47-da37d8657d26",
   "metadata": {},
   "outputs": [],
   "source": [
    "y = 3.0"
   ]
  },
  {
   "cell_type": "code",
   "execution_count": 17,
   "id": "cc151f85-774f-45fe-bc5e-bfc3144bf0db",
   "metadata": {},
   "outputs": [
    {
     "name": "stdout",
     "output_type": "stream",
     "text": [
      "1.0 3.0\n"
     ]
    }
   ],
   "source": [
    "print(x,y)"
   ]
  },
  {
   "cell_type": "code",
   "execution_count": 18,
   "id": "c2383ce5-b5dc-4294-8722-405815788562",
   "metadata": {},
   "outputs": [
    {
     "ename": "NameError",
     "evalue": "name 'swap' is not defined",
     "output_type": "error",
     "traceback": [
      "\u001b[0;31m---------------------------------------------------------------------------\u001b[0m",
      "\u001b[0;31mNameError\u001b[0m                                 Traceback (most recent call last)",
      "Cell \u001b[0;32mIn[18], line 1\u001b[0m\n\u001b[0;32m----> 1\u001b[0m \u001b[38;5;28mprint\u001b[39m(\u001b[43mswap\u001b[49m)\n",
      "\u001b[0;31mNameError\u001b[0m: name 'swap' is not defined"
     ]
    }
   ],
   "source": [
    "print(swap)\n"
   ]
  },
  {
   "cell_type": "code",
   "execution_count": 19,
   "id": "df3a9524-74ce-4d67-bb30-a8e15b7d4b8b",
   "metadata": {},
   "outputs": [
    {
     "name": "stdout",
     "output_type": "stream",
     "text": [
      "1.0 3.0 1.0\n"
     ]
    }
   ],
   "source": [
    "swap = x\n",
    "print(x, y, swap)"
   ]
  },
  {
   "cell_type": "code",
   "execution_count": 20,
   "id": "67f2825e-8344-4a97-a01f-0a70722b39e2",
   "metadata": {},
   "outputs": [
    {
     "name": "stdout",
     "output_type": "stream",
     "text": [
      "3.0 3.0 1.0\n"
     ]
    }
   ],
   "source": [
    "x = y\n",
    "print(x, y, swap)"
   ]
  },
  {
   "cell_type": "code",
   "execution_count": 22,
   "id": "a9deafcd-7481-4efd-aca3-a193757af352",
   "metadata": {},
   "outputs": [
    {
     "name": "stdout",
     "output_type": "stream",
     "text": [
      "3.0 1.0 1.0\n"
     ]
    }
   ],
   "source": [
    "y = swap\n",
    "print(x, y, swap)"
   ]
  },
  {
   "cell_type": "code",
   "execution_count": 23,
   "id": "56c5aa99-23ea-43d4-be6a-80342e686eb9",
   "metadata": {},
   "outputs": [],
   "source": [
    "initial = 'left'\n",
    "position = initial\n",
    "initial = 'right'"
   ]
  },
  {
   "cell_type": "code",
   "execution_count": 24,
   "id": "5df95f79-63eb-42dd-9c35-c33d04fd26e8",
   "metadata": {},
   "outputs": [
    {
     "name": "stdout",
     "output_type": "stream",
     "text": [
      "left\n"
     ]
    }
   ],
   "source": [
    "print(position)"
   ]
  },
  {
   "cell_type": "code",
   "execution_count": 25,
   "id": "be35b5eb-c2bb-4d02-9ec2-7da87d12d46c",
   "metadata": {},
   "outputs": [
    {
     "name": "stdout",
     "output_type": "stream",
     "text": [
      "atom_name[1:3] is: ar\n"
     ]
    }
   ],
   "source": [
    "atom_name = 'carbon'\n",
    "print('atom_name[1:3] is:', atom_name[1:3])"
   ]
  },
  {
   "cell_type": "code",
   "execution_count": 27,
   "id": "8391908e-cc4a-4bff-b66a-ceb006a3c8df",
   "metadata": {},
   "outputs": [
    {
     "data": {
      "text/plain": [
       "'ab'"
      ]
     },
     "execution_count": 27,
     "metadata": {},
     "output_type": "execute_result"
    }
   ],
   "source": [
    "xyz = 123\n",
    "atom_name[1:5:2]"
   ]
  },
  {
   "cell_type": "code",
   "execution_count": 28,
   "id": "e014c115-efd8-4f20-8873-2682934ce972",
   "metadata": {},
   "outputs": [
    {
     "data": {
      "text/plain": [
       "'n'"
      ]
     },
     "execution_count": 28,
     "metadata": {},
     "output_type": "execute_result"
    }
   ],
   "source": [
    "atom_name[-1]"
   ]
  },
  {
   "cell_type": "code",
   "execution_count": 29,
   "id": "20f3e026-90f5-42f1-835d-b49f5e8ecc12",
   "metadata": {},
   "outputs": [
    {
     "data": {
      "text/plain": [
       "6"
      ]
     },
     "execution_count": 29,
     "metadata": {},
     "output_type": "execute_result"
    }
   ],
   "source": [
    "len(atom_name)"
   ]
  },
  {
   "cell_type": "code",
   "execution_count": 30,
   "id": "1f6d58b7-d10a-44d0-bd0e-2f5511ecb742",
   "metadata": {},
   "outputs": [
    {
     "ename": "NameError",
     "evalue": "name 'Atom_Name' is not defined",
     "output_type": "error",
     "traceback": [
      "\u001b[0;31m---------------------------------------------------------------------------\u001b[0m",
      "\u001b[0;31mNameError\u001b[0m                                 Traceback (most recent call last)",
      "Cell \u001b[0;32mIn[30], line 1\u001b[0m\n\u001b[0;32m----> 1\u001b[0m \u001b[38;5;28mprint\u001b[39m(\u001b[43mAtom_Name\u001b[49m)\n",
      "\u001b[0;31mNameError\u001b[0m: name 'Atom_Name' is not defined"
     ]
    }
   ],
   "source": [
    "print(Atom_Name)"
   ]
  },
  {
   "cell_type": "code",
   "execution_count": null,
   "id": "4de53e30-17bb-4a9f-a973-c498a7ea7fbb",
   "metadata": {},
   "outputs": [],
   "source": []
  }
 ],
 "metadata": {
  "kernelspec": {
   "display_name": "Python 3 (ipykernel)",
   "language": "python",
   "name": "python3"
  },
  "language_info": {
   "codemirror_mode": {
    "name": "ipython",
    "version": 3
   },
   "file_extension": ".py",
   "mimetype": "text/x-python",
   "name": "python",
   "nbconvert_exporter": "python",
   "pygments_lexer": "ipython3",
   "version": "3.13.1"
  }
 },
 "nbformat": 4,
 "nbformat_minor": 5
}
