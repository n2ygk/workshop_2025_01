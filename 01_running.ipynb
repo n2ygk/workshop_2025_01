{
 "cells": [
  {
   "cell_type": "markdown",
   "id": "5abd62a4-fb94-4854-94b1-410bddecd2f7",
   "metadata": {},
   "source": [
    "# Running Python in a Jupyter Notebook\n",
    "\n",
    "* First launch jupyter lab\n",
    "* Then open a new Python3 notebook\n",
    "* Type some python code in a `Code` cell.\n",
    "* Document what you are doing in a `Markdown` cell (like this one).\n",
    "\n",
    "Reminder: SHIFT+RETURN (Enter) \"executes\" the cell. Or you can hit the \"run\" arrow up at the top of the notebook."
   ]
  },
  {
   "cell_type": "code",
   "execution_count": 1,
   "id": "1b637f2e-f65e-4ca1-b3f7-77fffb75ec04",
   "metadata": {},
   "outputs": [
    {
     "name": "stdout",
     "output_type": "stream",
     "text": [
      "hello, world.\n"
     ]
    }
   ],
   "source": [
    "print(\"hello, world.\")"
   ]
  },
  {
   "cell_type": "markdown",
   "id": "68597393-16a6-4c84-9799-dfb581c51cb3",
   "metadata": {},
   "source": [
    "Markdown can do LaTeX-style equation formatting:\n",
    "\n",
    "Typing `$\\sum_{i=1}^{N} 2^{-i} \\approx 1$` results in:\n",
    "\n",
    "$\\sum_{i=1}^{N} 2^{-i} \\approx 1$\n",
    "\n"
   ]
  }
 ],
 "metadata": {
  "kernelspec": {
   "display_name": "Python 3 (ipykernel)",
   "language": "python",
   "name": "python3"
  },
  "language_info": {
   "codemirror_mode": {
    "name": "ipython",
    "version": 3
   },
   "file_extension": ".py",
   "mimetype": "text/x-python",
   "name": "python",
   "nbconvert_exporter": "python",
   "pygments_lexer": "ipython3",
   "version": "3.13.1"
  }
 },
 "nbformat": 4,
 "nbformat_minor": 5
}
