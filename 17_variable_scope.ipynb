{
 "cells": [
  {
   "cell_type": "markdown",
   "id": "76dd3e5e-3e51-46fd-8959-9e536b7b0364",
   "metadata": {},
   "source": [
    "# Variable scope\n",
    "The `scope` is the part of a program that can \"see\" that variable."
   ]
  },
  {
   "cell_type": "code",
   "execution_count": 1,
   "id": "dce4facf-699c-4a60-84a7-a83b58bf9cfe",
   "metadata": {},
   "outputs": [],
   "source": [
    "pressure = 103.9\n",
    "\n",
    "def adjust(t):\n",
    "    temperature = t * 1.43 / pressure\n",
    "    return temperature"
   ]
  },
  {
   "cell_type": "markdown",
   "id": "f9db3ab8-0957-48ff-a0f3-988070682ea9",
   "metadata": {},
   "source": [
    "* `pressure` is a _global_ variable.\n",
    "* `t` and `temperature` are _local_ variables."
   ]
  },
  {
   "cell_type": "code",
   "execution_count": 2,
   "id": "4aa10add-c6ab-4203-933f-673a8afa6594",
   "metadata": {},
   "outputs": [
    {
     "name": "stdout",
     "output_type": "stream",
     "text": [
      "adjusted: 0.01238691049085659\n"
     ]
    }
   ],
   "source": [
    "print(\"adjusted:\", adjust(0.9))"
   ]
  },
  {
   "cell_type": "code",
   "execution_count": 3,
   "id": "1658b34c-31cf-4b81-b48d-d76541e1481a",
   "metadata": {},
   "outputs": [
    {
     "ename": "NameError",
     "evalue": "name 'temperature' is not defined",
     "output_type": "error",
     "traceback": [
      "\u001b[0;31m---------------------------------------------------------------------------\u001b[0m",
      "\u001b[0;31mNameError\u001b[0m                                 Traceback (most recent call last)",
      "Cell \u001b[0;32mIn[3], line 1\u001b[0m\n\u001b[0;32m----> 1\u001b[0m \u001b[38;5;28mprint\u001b[39m(\u001b[38;5;124m\"\u001b[39m\u001b[38;5;124mtemperature after call:\u001b[39m\u001b[38;5;124m\"\u001b[39m, \u001b[43mtemperature\u001b[49m)\n",
      "\u001b[0;31mNameError\u001b[0m: name 'temperature' is not defined"
     ]
    }
   ],
   "source": [
    "print(\"temperature after call:\", temperature)"
   ]
  },
  {
   "cell_type": "code",
   "execution_count": null,
   "id": "8660ebb4-38eb-411f-b151-8881765e9170",
   "metadata": {},
   "outputs": [],
   "source": []
  }
 ],
 "metadata": {
  "kernelspec": {
   "display_name": "Python 3 (ipykernel)",
   "language": "python",
   "name": "python3"
  },
  "language_info": {
   "codemirror_mode": {
    "name": "ipython",
    "version": 3
   },
   "file_extension": ".py",
   "mimetype": "text/x-python",
   "name": "python",
   "nbconvert_exporter": "python",
   "pygments_lexer": "ipython3",
   "version": "3.13.1"
  }
 },
 "nbformat": 4,
 "nbformat_minor": 5
}
