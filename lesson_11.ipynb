{
 "cells": [
  {
   "cell_type": "markdown",
   "id": "d8b33088-efef-4827-abf5-3bd4b710504d",
   "metadata": {},
   "source": [
    "# Lists"
   ]
  },
  {
   "cell_type": "code",
   "execution_count": 1,
   "id": "d16eb898-caf9-4e21-9aa2-2b10e8a9649e",
   "metadata": {},
   "outputs": [
    {
     "data": {
      "text/plain": [
       "[0.273, 0.275, 0.277, 0.275, 0.276]"
      ]
     },
     "execution_count": 1,
     "metadata": {},
     "output_type": "execute_result"
    }
   ],
   "source": [
    "pressures = [0.273, 0.275, 0.277, 0.275, 0.276]\n",
    "pressures"
   ]
  },
  {
   "cell_type": "code",
   "execution_count": 2,
   "id": "116a73a1-5171-49cf-a356-03784a3a4bc9",
   "metadata": {},
   "outputs": [
    {
     "data": {
      "text/plain": [
       "list"
      ]
     },
     "execution_count": 2,
     "metadata": {},
     "output_type": "execute_result"
    }
   ],
   "source": [
    "type(pressures)"
   ]
  },
  {
   "cell_type": "code",
   "execution_count": 3,
   "id": "ea91e6a8-0c4e-43a2-871b-aefbcbc484d6",
   "metadata": {},
   "outputs": [
    {
     "data": {
      "text/plain": [
       "5"
      ]
     },
     "execution_count": 3,
     "metadata": {},
     "output_type": "execute_result"
    }
   ],
   "source": [
    "len(pressures)"
   ]
  },
  {
   "cell_type": "code",
   "execution_count": 4,
   "id": "cdbdd486-d3ea-433b-bbe2-d5b3a7669284",
   "metadata": {},
   "outputs": [
    {
     "data": {
      "text/plain": [
       "0.275"
      ]
     },
     "execution_count": 4,
     "metadata": {},
     "output_type": "execute_result"
    }
   ],
   "source": [
    "pressures[3]"
   ]
  },
  {
   "cell_type": "code",
   "execution_count": 5,
   "id": "08a8015a-e192-4c0c-b10a-62c18ad4fad8",
   "metadata": {},
   "outputs": [
    {
     "data": {
      "text/plain": [
       "[0.275, 0.276]"
      ]
     },
     "execution_count": 5,
     "metadata": {},
     "output_type": "execute_result"
    }
   ],
   "source": [
    "pressures[3:]"
   ]
  },
  {
   "cell_type": "code",
   "execution_count": 9,
   "id": "32ef2f78-2fdb-4e81-b43c-48e92aac5ff6",
   "metadata": {},
   "outputs": [
    {
     "data": {
      "text/plain": [
       "[0.277, 0.275]"
      ]
     },
     "execution_count": 9,
     "metadata": {},
     "output_type": "execute_result"
    }
   ],
   "source": [
    "pressures[-3:-1]"
   ]
  },
  {
   "cell_type": "code",
   "execution_count": 10,
   "id": "6ba87046-ae98-4552-a644-55fea94208c3",
   "metadata": {},
   "outputs": [
    {
     "data": {
      "text/plain": [
       "0.273"
      ]
     },
     "execution_count": 10,
     "metadata": {},
     "output_type": "execute_result"
    }
   ],
   "source": [
    "pressures[0]"
   ]
  },
  {
   "cell_type": "code",
   "execution_count": 11,
   "id": "98fbeaa3-482a-4598-99c3-c6de4931c9f8",
   "metadata": {},
   "outputs": [],
   "source": [
    "pressures[0] = 0.265"
   ]
  },
  {
   "cell_type": "code",
   "execution_count": 12,
   "id": "f940b3f1-2927-443b-809e-8640e31aadc1",
   "metadata": {},
   "outputs": [
    {
     "data": {
      "text/plain": [
       "[0.265, 0.275, 0.277, 0.275, 0.276]"
      ]
     },
     "execution_count": 12,
     "metadata": {},
     "output_type": "execute_result"
    }
   ],
   "source": [
    "pressures"
   ]
  },
  {
   "cell_type": "code",
   "execution_count": 13,
   "id": "57801f83-730f-4331-81bd-a2ceb2930d70",
   "metadata": {},
   "outputs": [
    {
     "data": {
      "text/plain": [
       "[2, 3, 5]"
      ]
     },
     "execution_count": 13,
     "metadata": {},
     "output_type": "execute_result"
    }
   ],
   "source": [
    "primes = [2, 3, 5]\n",
    "primes"
   ]
  },
  {
   "cell_type": "code",
   "execution_count": 14,
   "id": "eb3d9ccc-503b-4afb-86da-f24cee15ecc1",
   "metadata": {},
   "outputs": [],
   "source": [
    "primes.append(7)"
   ]
  },
  {
   "cell_type": "code",
   "execution_count": 15,
   "id": "e56f332c-9ca2-4d08-8fc8-62ab7e5c6c7d",
   "metadata": {},
   "outputs": [
    {
     "data": {
      "text/plain": [
       "[2, 3, 5, 7]"
      ]
     },
     "execution_count": 15,
     "metadata": {},
     "output_type": "execute_result"
    }
   ],
   "source": [
    "primes"
   ]
  },
  {
   "cell_type": "code",
   "execution_count": 16,
   "id": "8360d0cc-fb10-443b-875b-4720317452f3",
   "metadata": {},
   "outputs": [
    {
     "data": {
      "text/plain": [
       "['__add__',\n",
       " '__class__',\n",
       " '__class_getitem__',\n",
       " '__contains__',\n",
       " '__delattr__',\n",
       " '__delitem__',\n",
       " '__dir__',\n",
       " '__doc__',\n",
       " '__eq__',\n",
       " '__format__',\n",
       " '__ge__',\n",
       " '__getattribute__',\n",
       " '__getitem__',\n",
       " '__getstate__',\n",
       " '__gt__',\n",
       " '__hash__',\n",
       " '__iadd__',\n",
       " '__imul__',\n",
       " '__init__',\n",
       " '__init_subclass__',\n",
       " '__iter__',\n",
       " '__le__',\n",
       " '__len__',\n",
       " '__lt__',\n",
       " '__mul__',\n",
       " '__ne__',\n",
       " '__new__',\n",
       " '__reduce__',\n",
       " '__reduce_ex__',\n",
       " '__repr__',\n",
       " '__reversed__',\n",
       " '__rmul__',\n",
       " '__setattr__',\n",
       " '__setitem__',\n",
       " '__sizeof__',\n",
       " '__str__',\n",
       " '__subclasshook__',\n",
       " 'append',\n",
       " 'clear',\n",
       " 'copy',\n",
       " 'count',\n",
       " 'extend',\n",
       " 'index',\n",
       " 'insert',\n",
       " 'pop',\n",
       " 'remove',\n",
       " 'reverse',\n",
       " 'sort']"
      ]
     },
     "execution_count": 16,
     "metadata": {},
     "output_type": "execute_result"
    }
   ],
   "source": [
    "dir(primes)"
   ]
  },
  {
   "cell_type": "code",
   "execution_count": 17,
   "id": "d0d97c60-080e-42e2-afcf-e4b7992c3f5b",
   "metadata": {},
   "outputs": [
    {
     "data": {
      "text/plain": [
       "[2, 3, 5, 7]"
      ]
     },
     "execution_count": 17,
     "metadata": {},
     "output_type": "execute_result"
    }
   ],
   "source": [
    "teen_primes = [11, 13, 17, 19]\n",
    "middle_aged_primes= [37, 41, 43, 47]\n",
    "primes"
   ]
  },
  {
   "cell_type": "code",
   "execution_count": 18,
   "id": "7b2d14a6-dbd4-4ac3-a0ec-de6f1e5abd8a",
   "metadata": {},
   "outputs": [
    {
     "data": {
      "text/plain": [
       "[2, 3, 5, 7, 11, 13, 17, 19]"
      ]
     },
     "execution_count": 18,
     "metadata": {},
     "output_type": "execute_result"
    }
   ],
   "source": [
    "primes.extend(teen_primes)\n",
    "primes"
   ]
  },
  {
   "cell_type": "code",
   "execution_count": 19,
   "id": "f19608c2-3eb2-41d6-b8fb-31a1b8ae7484",
   "metadata": {},
   "outputs": [
    {
     "data": {
      "text/plain": [
       "[2, 3, 5, 7, 11, 13, 17, 19, [37, 41, 43, 47]]"
      ]
     },
     "execution_count": 19,
     "metadata": {},
     "output_type": "execute_result"
    }
   ],
   "source": [
    "primes.append(middle_aged_primes)\n",
    "primes"
   ]
  },
  {
   "cell_type": "code",
   "execution_count": 20,
   "id": "16f4bb00-e5aa-480e-bd8e-896eaffef595",
   "metadata": {},
   "outputs": [
    {
     "data": {
      "text/plain": [
       "[37, 41, 43, 47]"
      ]
     },
     "execution_count": 20,
     "metadata": {},
     "output_type": "execute_result"
    }
   ],
   "source": [
    "primes[-1]"
   ]
  },
  {
   "cell_type": "code",
   "execution_count": 21,
   "id": "dd6a5891-8073-4878-9f90-5fb6247caf47",
   "metadata": {},
   "outputs": [
    {
     "data": {
      "text/plain": [
       "int"
      ]
     },
     "execution_count": 21,
     "metadata": {},
     "output_type": "execute_result"
    }
   ],
   "source": [
    "type(primes[0])"
   ]
  },
  {
   "cell_type": "code",
   "execution_count": 22,
   "id": "6d8e8f79-3b90-42b7-afb9-988e7247b535",
   "metadata": {},
   "outputs": [
    {
     "data": {
      "text/plain": [
       "list"
      ]
     },
     "execution_count": 22,
     "metadata": {},
     "output_type": "execute_result"
    }
   ],
   "source": [
    "type(primes[-1])"
   ]
  },
  {
   "cell_type": "code",
   "execution_count": 23,
   "id": "2b917bd5-db73-48f5-9125-c31f967d2dab",
   "metadata": {},
   "outputs": [
    {
     "data": {
      "text/plain": [
       "[3, 'abcd', [1, 2]]"
      ]
     },
     "execution_count": 23,
     "metadata": {},
     "output_type": "execute_result"
    }
   ],
   "source": [
    "list_of_stuff = [3, 'abcd', [1,2]]\n",
    "list_of_stuff"
   ]
  },
  {
   "cell_type": "code",
   "execution_count": 24,
   "id": "21f7b493-9db9-4e66-8811-343b680a411a",
   "metadata": {},
   "outputs": [
    {
     "data": {
      "text/plain": [
       "'abcd'"
      ]
     },
     "execution_count": 24,
     "metadata": {},
     "output_type": "execute_result"
    }
   ],
   "source": [
    "list_of_stuff[1]"
   ]
  },
  {
   "cell_type": "code",
   "execution_count": 25,
   "id": "d513bc4b-3da3-46f0-be98-44e106afb0a3",
   "metadata": {},
   "outputs": [
    {
     "data": {
      "text/plain": [
       "'c'"
      ]
     },
     "execution_count": 25,
     "metadata": {},
     "output_type": "execute_result"
    }
   ],
   "source": [
    "list_of_stuff[1][2]"
   ]
  },
  {
   "cell_type": "code",
   "execution_count": 26,
   "id": "5da7b257-0686-4738-ba25-b99e6e3a0eca",
   "metadata": {},
   "outputs": [
    {
     "data": {
      "text/plain": [
       "[2, 3, 5, 7, 11, 13, 17, 19, [37, 41, 43, 47]]"
      ]
     },
     "execution_count": 26,
     "metadata": {},
     "output_type": "execute_result"
    }
   ],
   "source": [
    "primes"
   ]
  },
  {
   "cell_type": "code",
   "execution_count": 27,
   "id": "cb1e749c-b507-45bc-bc9b-464dea6a35a4",
   "metadata": {},
   "outputs": [],
   "source": [
    "del primes[4]"
   ]
  },
  {
   "cell_type": "code",
   "execution_count": 28,
   "id": "45227ce1-6cea-4309-b275-4e6ad915f786",
   "metadata": {},
   "outputs": [
    {
     "data": {
      "text/plain": [
       "[2, 3, 5, 7, 13, 17, 19, [37, 41, 43, 47]]"
      ]
     },
     "execution_count": 28,
     "metadata": {},
     "output_type": "execute_result"
    }
   ],
   "source": [
    "primes"
   ]
  },
  {
   "cell_type": "code",
   "execution_count": 29,
   "id": "4b7cf346-6665-4da1-ba3f-8d448698a304",
   "metadata": {},
   "outputs": [],
   "source": [
    "empty = []"
   ]
  },
  {
   "cell_type": "code",
   "execution_count": 30,
   "id": "937e1132-8603-4856-8557-7873994e8141",
   "metadata": {},
   "outputs": [
    {
     "data": {
      "text/plain": [
       "[]"
      ]
     },
     "execution_count": 30,
     "metadata": {},
     "output_type": "execute_result"
    }
   ],
   "source": [
    "empty"
   ]
  },
  {
   "cell_type": "code",
   "execution_count": 32,
   "id": "f2724b9d-93e4-48bb-835c-cf0f78f5d3b8",
   "metadata": {},
   "outputs": [
    {
     "data": {
      "text/plain": [
       "[6]"
      ]
     },
     "execution_count": 32,
     "metadata": {},
     "output_type": "execute_result"
    }
   ],
   "source": [
    "empty.append(6)\n",
    "empty"
   ]
  },
  {
   "cell_type": "code",
   "execution_count": 33,
   "id": "6b9df168-a1d3-45fd-823b-e3f0bcdf5685",
   "metadata": {},
   "outputs": [],
   "source": [
    "element = 'carbon'"
   ]
  },
  {
   "cell_type": "code",
   "execution_count": 34,
   "id": "ee4d1bdd-b94c-4f4e-9dab-b814b2873a4b",
   "metadata": {},
   "outputs": [
    {
     "data": {
      "text/plain": [
       "'carbon'"
      ]
     },
     "execution_count": 34,
     "metadata": {},
     "output_type": "execute_result"
    }
   ],
   "source": [
    "element"
   ]
  },
  {
   "cell_type": "code",
   "execution_count": 35,
   "id": "618debaf-8c21-4d43-9475-d5f34100b32b",
   "metadata": {},
   "outputs": [
    {
     "data": {
      "text/plain": [
       "'c'"
      ]
     },
     "execution_count": 35,
     "metadata": {},
     "output_type": "execute_result"
    }
   ],
   "source": [
    "element[0]"
   ]
  },
  {
   "cell_type": "code",
   "execution_count": 36,
   "id": "926927da-0a38-47fe-ad42-a3675c70f146",
   "metadata": {},
   "outputs": [
    {
     "ename": "TypeError",
     "evalue": "'str' object does not support item assignment",
     "output_type": "error",
     "traceback": [
      "\u001b[0;31m---------------------------------------------------------------------------\u001b[0m",
      "\u001b[0;31mTypeError\u001b[0m                                 Traceback (most recent call last)",
      "Cell \u001b[0;32mIn[36], line 1\u001b[0m\n\u001b[0;32m----> 1\u001b[0m \u001b[43melement\u001b[49m\u001b[43m[\u001b[49m\u001b[38;5;241;43m0\u001b[39;49m\u001b[43m]\u001b[49m \u001b[38;5;241m=\u001b[39m \u001b[38;5;124m'\u001b[39m\u001b[38;5;124mX\u001b[39m\u001b[38;5;124m'\u001b[39m\n",
      "\u001b[0;31mTypeError\u001b[0m: 'str' object does not support item assignment"
     ]
    }
   ],
   "source": [
    "element[0] = 'X'"
   ]
  },
  {
   "cell_type": "code",
   "execution_count": 37,
   "id": "4dd4ec4c-c4ad-4543-beb8-d5adf9345824",
   "metadata": {},
   "outputs": [
    {
     "ename": "IndexError",
     "evalue": "string index out of range",
     "output_type": "error",
     "traceback": [
      "\u001b[0;31m---------------------------------------------------------------------------\u001b[0m",
      "\u001b[0;31mIndexError\u001b[0m                                Traceback (most recent call last)",
      "Cell \u001b[0;32mIn[37], line 1\u001b[0m\n\u001b[0;32m----> 1\u001b[0m \u001b[38;5;28mprint\u001b[39m(\u001b[38;5;124m'\u001b[39m\u001b[38;5;124m99th element of element is\u001b[39m\u001b[38;5;124m'\u001b[39m, \u001b[43melement\u001b[49m\u001b[43m[\u001b[49m\u001b[38;5;241;43m99\u001b[39;49m\u001b[43m]\u001b[49m)\n",
      "\u001b[0;31mIndexError\u001b[0m: string index out of range"
     ]
    }
   ],
   "source": [
    "print('99th element of element is', element[99])"
   ]
  },
  {
   "cell_type": "code",
   "execution_count": 46,
   "id": "41ab8345-3187-49fd-85f7-36e2fb0a5398",
   "metadata": {},
   "outputs": [
    {
     "name": "stdout",
     "output_type": "stream",
     "text": [
      "first time: [1, 3, 5]\n"
     ]
    }
   ],
   "source": [
    "values = []\n",
    "values.append(1)\n",
    "values.append(3)\n",
    "values.append(5)\n",
    "print('first time:', values)"
   ]
  },
  {
   "cell_type": "code",
   "execution_count": 47,
   "id": "e97cc748-7a06-4454-9bf9-30fa64ac82c9",
   "metadata": {},
   "outputs": [
    {
     "name": "stdout",
     "output_type": "stream",
     "text": [
      "second time: [3, 5]\n"
     ]
    }
   ],
   "source": [
    "# first time: [1, 3, 5]\n",
    "\n",
    "# values = values[1:3]\n",
    "values = values[1:99]\n",
    "# del values[0]\n",
    "\n",
    "print('second time:', values)\n",
    "# second time: [3, 5]"
   ]
  },
  {
   "cell_type": "markdown",
   "id": "4c302a5d-e896-435a-a583-2bdfc95bb12b",
   "metadata": {},
   "source": [
    "# string to list conversion"
   ]
  },
  {
   "cell_type": "code",
   "execution_count": 48,
   "id": "98c2b9c0-d1bf-43ed-b02b-4bc5df878019",
   "metadata": {},
   "outputs": [
    {
     "name": "stdout",
     "output_type": "stream",
     "text": [
      "string to list: ['t', 'i', 'n']\n"
     ]
    }
   ],
   "source": [
    "print('string to list:', list('tin'))"
   ]
  },
  {
   "cell_type": "code",
   "execution_count": 49,
   "id": "80f376ef-0852-48ea-8e0e-e2518ca0d442",
   "metadata": {},
   "outputs": [
    {
     "data": {
      "text/plain": [
       "['t', 'i', 'n']"
      ]
     },
     "execution_count": 49,
     "metadata": {},
     "output_type": "execute_result"
    }
   ],
   "source": [
    "list('tin')"
   ]
  },
  {
   "cell_type": "code",
   "execution_count": 50,
   "id": "ec4f1bb9-cdd1-47f2-8f31-93d17ef6bbbc",
   "metadata": {},
   "outputs": [
    {
     "data": {
      "text/plain": [
       "\"['t', 'i', 'n']\""
      ]
     },
     "execution_count": 50,
     "metadata": {},
     "output_type": "execute_result"
    }
   ],
   "source": [
    "str(['t','i','n'])"
   ]
  },
  {
   "cell_type": "code",
   "execution_count": 51,
   "id": "a810236a-0c97-4791-a870-429467423441",
   "metadata": {},
   "outputs": [
    {
     "data": {
      "text/plain": [
       "'tin'"
      ]
     },
     "execution_count": 51,
     "metadata": {},
     "output_type": "execute_result"
    }
   ],
   "source": [
    "\"\".join(['t','i','n'])"
   ]
  },
  {
   "cell_type": "code",
   "execution_count": 52,
   "id": "9ecc128f-c757-42dd-8d7d-8a9523ad6ef5",
   "metadata": {},
   "outputs": [
    {
     "data": {
      "text/plain": [
       "'t:::i:::n'"
      ]
     },
     "execution_count": 52,
     "metadata": {},
     "output_type": "execute_result"
    }
   ],
   "source": [
    "\":::\".join(['t','i','n'])"
   ]
  },
  {
   "cell_type": "code",
   "execution_count": 54,
   "id": "92b8b87f-babf-44c7-9898-22b729ae6a4e",
   "metadata": {},
   "outputs": [
    {
     "name": "stdout",
     "output_type": "stream",
     "text": [
      "new is ['D', 'o', 'l', 'd'] and old is ['g', 'o', 'l', 'd']\n"
     ]
    }
   ],
   "source": [
    "old = list('gold')\n",
    "new = old[:]\n",
    "new[0] = 'D'\n",
    "print('new is', new, 'and old is', old)"
   ]
  },
  {
   "cell_type": "code",
   "execution_count": 55,
   "id": "e00edb07-73cb-4722-a4cd-b9a5bd691281",
   "metadata": {},
   "outputs": [
    {
     "name": "stdout",
     "output_type": "stream",
     "text": [
      "new is ['D', 'o', 'l', 'd'] and old is ['g', 'o', 'l', 'd']\n"
     ]
    }
   ],
   "source": [
    "old = list('gold')\n",
    "new = old.copy()\n",
    "new[0] = 'D'\n",
    "print('new is', new, 'and old is', old)"
   ]
  },
  {
   "cell_type": "code",
   "execution_count": null,
   "id": "62548342-e381-4272-af7e-c6edd3063c53",
   "metadata": {},
   "outputs": [],
   "source": []
  }
 ],
 "metadata": {
  "kernelspec": {
   "display_name": "Python 3 (ipykernel)",
   "language": "python",
   "name": "python3"
  },
  "language_info": {
   "codemirror_mode": {
    "name": "ipython",
    "version": 3
   },
   "file_extension": ".py",
   "mimetype": "text/x-python",
   "name": "python",
   "nbconvert_exporter": "python",
   "pygments_lexer": "ipython3",
   "version": "3.13.1"
  }
 },
 "nbformat": 4,
 "nbformat_minor": 5
}
