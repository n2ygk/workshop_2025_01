{
 "cells": [
  {
   "cell_type": "code",
   "execution_count": 2,
   "id": "277157c8-c997-49ef-b039-0d1ab665826a",
   "metadata": {},
   "outputs": [],
   "source": [
    "def print_greeting():\n",
    "    print('Hello')\n",
    "    print('The weather today is frightful.')\n",
    "    print('Let it snow. ' * 3)"
   ]
  },
  {
   "cell_type": "code",
   "execution_count": 3,
   "id": "0d6af587-6e30-48b7-8f93-a878595ad020",
   "metadata": {},
   "outputs": [
    {
     "name": "stdout",
     "output_type": "stream",
     "text": [
      "Hello\n",
      "The weather today is frightful.\n",
      "Let it snow. Let it snow. Let it snow. \n"
     ]
    }
   ],
   "source": [
    "print_greeting()"
   ]
  },
  {
   "cell_type": "code",
   "execution_count": 5,
   "id": "0ac1ac7f-e7bc-4720-a203-67727565dc31",
   "metadata": {},
   "outputs": [],
   "source": [
    "def print_date(year, month, day):\n",
    "    joined = str(year) + '/' + str(month) + '/' + str(day)\n",
    "    print(joined)"
   ]
  },
  {
   "cell_type": "code",
   "execution_count": 7,
   "id": "b3e06b8d-9f52-4f2f-893c-03420cf500a2",
   "metadata": {},
   "outputs": [
    {
     "name": "stdout",
     "output_type": "stream",
     "text": [
      "1871/3/19\n"
     ]
    }
   ],
   "source": [
    "print_date(1871, 3, 11)"
   ]
  },
  {
   "cell_type": "code",
   "execution_count": 8,
   "id": "2a0daf2a-ed5e-4192-b0b1-c8d19020aa82",
   "metadata": {},
   "outputs": [
    {
     "name": "stdout",
     "output_type": "stream",
     "text": [
      "1871/3/19\n"
     ]
    }
   ],
   "source": [
    "print_date(month=3, year=1871, day=19)"
   ]
  },
  {
   "cell_type": "code",
   "execution_count": 9,
   "id": "4876d78d-b6ea-4e4a-842b-76111636ac71",
   "metadata": {},
   "outputs": [
    {
     "name": "stdout",
     "output_type": "stream",
     "text": [
      "1871/3/19\n"
     ]
    }
   ],
   "source": [
    "result = print_date(month=3, year=1871, day=19)"
   ]
  },
  {
   "cell_type": "code",
   "execution_count": 10,
   "id": "8665bc82-ee46-42f1-954f-d0409365bf4c",
   "metadata": {},
   "outputs": [],
   "source": [
    "result"
   ]
  },
  {
   "cell_type": "code",
   "execution_count": 11,
   "id": "26bfa13b-1214-4284-9f58-a6c3c02081a7",
   "metadata": {},
   "outputs": [
    {
     "name": "stdout",
     "output_type": "stream",
     "text": [
      "None\n"
     ]
    }
   ],
   "source": [
    "print(result)"
   ]
  },
  {
   "cell_type": "code",
   "execution_count": 12,
   "id": "c1455d07-7a11-4fa1-b9ea-dda4dbc67226",
   "metadata": {},
   "outputs": [],
   "source": [
    "def average(values):\n",
    "    if len(values) == 0:\n",
    "        return None\n",
    "    return sum(values) / len(values)"
   ]
  },
  {
   "cell_type": "code",
   "execution_count": 13,
   "id": "b1c081f4-58ac-4c0c-a216-c9ef504b9476",
   "metadata": {},
   "outputs": [
    {
     "name": "stdout",
     "output_type": "stream",
     "text": [
      "2.0\n"
     ]
    }
   ],
   "source": [
    "a = average([1, 2, 3])\n",
    "print(a)"
   ]
  },
  {
   "cell_type": "code",
   "execution_count": 14,
   "id": "4867a4c7-5482-40b0-8619-e87b40b911dd",
   "metadata": {},
   "outputs": [
    {
     "ename": "TypeError",
     "evalue": "average() missing 1 required positional argument: 'values'",
     "output_type": "error",
     "traceback": [
      "\u001b[0;31m---------------------------------------------------------------------------\u001b[0m",
      "\u001b[0;31mTypeError\u001b[0m                                 Traceback (most recent call last)",
      "Cell \u001b[0;32mIn[14], line 1\u001b[0m\n\u001b[0;32m----> 1\u001b[0m \u001b[43maverage\u001b[49m\u001b[43m(\u001b[49m\u001b[43m)\u001b[49m\n",
      "\u001b[0;31mTypeError\u001b[0m: average() missing 1 required positional argument: 'values'"
     ]
    }
   ],
   "source": [
    "average()"
   ]
  },
  {
   "cell_type": "code",
   "execution_count": 15,
   "id": "8994fc54-6044-4540-8ba6-d1a016b47037",
   "metadata": {},
   "outputs": [],
   "source": [
    "average([])"
   ]
  },
  {
   "cell_type": "code",
   "execution_count": 16,
   "id": "a1210cfd-0cb6-42cd-823b-2b2809148d33",
   "metadata": {},
   "outputs": [
    {
     "name": "stdout",
     "output_type": "stream",
     "text": [
      "average is <function average at 0x10557cae0>\n"
     ]
    }
   ],
   "source": [
    "print(\"average is\", average)"
   ]
  },
  {
   "cell_type": "markdown",
   "id": "4620f9ff-7e61-44fb-b2ff-8565c0f20b5e",
   "metadata": {},
   "source": [
    "Write a program that reads in the regional data sets and plots the average GDP per capita for each region over time in a single chart.\n"
   ]
  },
  {
   "cell_type": "code",
   "execution_count": 17,
   "id": "ea11035f-9952-4885-bfb3-e952b22cfb02",
   "metadata": {},
   "outputs": [],
   "source": [
    "import glob\n",
    "import pandas as pd\n",
    "import matplotlib.pyplot as plt"
   ]
  },
  {
   "cell_type": "code",
   "execution_count": 22,
   "id": "dd517238-cdee-423d-afc7-3d030aced2e6",
   "metadata": {},
   "outputs": [
    {
     "data": {
      "text/plain": [
       "'africa'"
      ]
     },
     "execution_count": 22,
     "metadata": {},
     "output_type": "execute_result"
    }
   ],
   "source": [
    "\"data/gapminder_gdp_africa.csv\".split('_')[-1][:-4]"
   ]
  },
  {
   "cell_type": "code",
   "execution_count": 26,
   "id": "9ca196f6-2acb-4591-92c1-269c8206bb5d",
   "metadata": {},
   "outputs": [
    {
     "name": "stdout",
     "output_type": "stream",
     "text": [
      "region americas\n",
      "region europe\n",
      "region oceania\n",
      "region africa\n",
      "region asia\n"
     ]
    },
    {
     "data": {
      "image/png": "[encoded data removed]",
      "text/plain": [
       "<Figure size 640x480 with 1 Axes>"
      ]
     },
     "metadata": {},
     "output_type": "display_data"
    }
   ],
   "source": [
    "fig, ax = plt.subplots(1,1)\n",
    "\n",
    "for filename in glob.glob('data/gapminder_gdp*.csv'):\n",
    "    dataframe = pd.read_csv(filename, index_col='country')\n",
    "    # extract <region> from the filename, expected to be in the format 'data/gapminder_gdp_<region>.csv'.\n",
    "    # we will split the string using the split method and `_` as our separator,\n",
    "    # retrieve the last string in the list that split returns (`<region>.csv`), \n",
    "    # and then remove the `.csv` extension from that string.\n",
    "    region = filename.split('_')[-1][:-4]\n",
    "    print(\"region\", region)\n",
    "    if region != 'americas': # because this CSV has an extra continent column. TODO: fix this!\n",
    "        dataframe.mean().plot(ax=ax, label=region)\n",
    "\n",
    "plt.legend()\n",
    "plt.show()"
   ]
  },
  {
   "cell_type": "markdown",
   "id": "0f205eff-3d0d-450c-b1b8-03466e6b99dc",
   "metadata": {},
   "source": [
    "https://github.com/n2ygk/workshop_2025_01"
   ]
  },
  {
   "cell_type": "code",
   "execution_count": null,
   "id": "bb9359f7-ffda-4f6d-a3c6-f2302020c96e",
   "metadata": {},
   "outputs": [],
   "source": []
  }
 ],
 "metadata": {
  "kernelspec": {
   "display_name": "Python 3 (ipykernel)",
   "language": "python",
   "name": "python3"
  },
  "language_info": {
   "codemirror_mode": {
    "name": "ipython",
    "version": 3
   },
   "file_extension": ".py",
   "mimetype": "text/x-python",
   "name": "python",
   "nbconvert_exporter": "python",
   "pygments_lexer": "ipython3",
   "version": "3.13.1"
  }
 },
 "nbformat": 4,
 "nbformat_minor": 5
}
