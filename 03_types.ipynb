{
 "cells": [
  {
   "cell_type": "markdown",
   "id": "43f10f85-56a5-4ea1-bf57-ede34bd17dd0",
   "metadata": {},
   "source": [
    "# Data types and conversions\n",
    "\n",
    "* int: integers\n",
    "* float: floating point (real) numbers\n",
    "* str: character string text"
   ]
  },
  {
   "cell_type": "code",
   "execution_count": 1,
   "id": "b6ea3e75-8100-41f9-b154-1ce4f576b0bd",
   "metadata": {},
   "outputs": [
    {
     "data": {
      "text/plain": [
       "int"
      ]
     },
     "execution_count": 1,
     "metadata": {},
     "output_type": "execute_result"
    }
   ],
   "source": [
    "type(52)"
   ]
  },
  {
   "cell_type": "code",
   "execution_count": 2,
   "id": "5a7347e8-b280-408c-9be8-9d9c0ead0398",
   "metadata": {},
   "outputs": [
    {
     "data": {
      "text/plain": [
       "str"
      ]
     },
     "execution_count": 2,
     "metadata": {},
     "output_type": "execute_result"
    }
   ],
   "source": [
    "type('hello')"
   ]
  },
  {
   "cell_type": "code",
   "execution_count": 3,
   "id": "0b20a566-c9c0-4202-8e97-a1f0454d7a60",
   "metadata": {},
   "outputs": [
    {
     "data": {
      "text/plain": [
       "float"
      ]
     },
     "execution_count": 3,
     "metadata": {},
     "output_type": "execute_result"
    }
   ],
   "source": [
    "type(3.14)"
   ]
  },
  {
   "cell_type": "markdown",
   "id": "9f723883-2688-42da-8a4f-b76b4e1fe20d",
   "metadata": {},
   "source": [
    "## Types control what operations can be performed"
   ]
  },
  {
   "cell_type": "code",
   "execution_count": 4,
   "id": "d0ccffbf-e5d4-4f93-9db3-5634b6d61672",
   "metadata": {},
   "outputs": [
    {
     "data": {
      "text/plain": [
       "2"
      ]
     },
     "execution_count": 4,
     "metadata": {},
     "output_type": "execute_result"
    }
   ],
   "source": [
    "5 - 3 "
   ]
  },
  {
   "cell_type": "code",
   "execution_count": 5,
   "id": "22865add-ab15-48e3-8b9f-5f8fd213a2e4",
   "metadata": {},
   "outputs": [
    {
     "ename": "TypeError",
     "evalue": "unsupported operand type(s) for -: 'str' and 'str'",
     "output_type": "error",
     "traceback": [
      "\u001b[0;31m---------------------------------------------------------------------------\u001b[0m",
      "\u001b[0;31mTypeError\u001b[0m                                 Traceback (most recent call last)",
      "Cell \u001b[0;32mIn[5], line 1\u001b[0m\n\u001b[0;32m----> 1\u001b[0m \u001b[38;5;124;43m'\u001b[39;49m\u001b[38;5;124;43mhello\u001b[39;49m\u001b[38;5;124;43m'\u001b[39;49m\u001b[43m \u001b[49m\u001b[38;5;241;43m-\u001b[39;49m\u001b[43m \u001b[49m\u001b[38;5;124;43m'\u001b[39;49m\u001b[38;5;124;43mh\u001b[39;49m\u001b[38;5;124;43m'\u001b[39;49m\n",
      "\u001b[0;31mTypeError\u001b[0m: unsupported operand type(s) for -: 'str' and 'str'"
     ]
    }
   ],
   "source": [
    "'hello' - 'h'"
   ]
  },
  {
   "cell_type": "code",
   "execution_count": 6,
   "id": "78da396a-4cfa-4f0e-bd69-0d0d63f44f60",
   "metadata": {},
   "outputs": [],
   "source": [
    "full_name = 'Ahmed' + ' ' + 'Walsh'"
   ]
  },
  {
   "cell_type": "code",
   "execution_count": 7,
   "id": "b671d37d-db27-44d6-a98c-fbb3d94768f5",
   "metadata": {},
   "outputs": [
    {
     "data": {
      "text/plain": [
       "'Ahmed Walsh'"
      ]
     },
     "execution_count": 7,
     "metadata": {},
     "output_type": "execute_result"
    }
   ],
   "source": [
    "full_name"
   ]
  },
  {
   "cell_type": "code",
   "execution_count": 9,
   "id": "5dd62930-06d2-479c-b717-d46d0978a680",
   "metadata": {},
   "outputs": [],
   "source": [
    "separator = '=' * 10"
   ]
  },
  {
   "cell_type": "code",
   "execution_count": 10,
   "id": "5126c6c3-ee52-482c-bf43-74936f4da7e9",
   "metadata": {},
   "outputs": [
    {
     "data": {
      "text/plain": [
       "'=========='"
      ]
     },
     "execution_count": 10,
     "metadata": {},
     "output_type": "execute_result"
    }
   ],
   "source": [
    "separator"
   ]
  },
  {
   "cell_type": "code",
   "execution_count": 11,
   "id": "a8620a0d-b1ac-45f2-97f6-1d9988b8e48b",
   "metadata": {},
   "outputs": [
    {
     "data": {
      "text/plain": [
       "11"
      ]
     },
     "execution_count": 11,
     "metadata": {},
     "output_type": "execute_result"
    }
   ],
   "source": [
    "len(full_name)"
   ]
  },
  {
   "cell_type": "code",
   "execution_count": 12,
   "id": "19a7e1cf-2220-42d0-bf21-5f8369209612",
   "metadata": {},
   "outputs": [
    {
     "ename": "TypeError",
     "evalue": "object of type 'int' has no len()",
     "output_type": "error",
     "traceback": [
      "\u001b[0;31m---------------------------------------------------------------------------\u001b[0m",
      "\u001b[0;31mTypeError\u001b[0m                                 Traceback (most recent call last)",
      "Cell \u001b[0;32mIn[12], line 1\u001b[0m\n\u001b[0;32m----> 1\u001b[0m \u001b[38;5;28;43mlen\u001b[39;49m\u001b[43m(\u001b[49m\u001b[38;5;241;43m52\u001b[39;49m\u001b[43m)\u001b[49m\n",
      "\u001b[0;31mTypeError\u001b[0m: object of type 'int' has no len()"
     ]
    }
   ],
   "source": [
    "len(52)"
   ]
  },
  {
   "cell_type": "markdown",
   "id": "34642566-7f42-404a-a6a7-ba476cce688c",
   "metadata": {},
   "source": [
    "## conversions"
   ]
  },
  {
   "cell_type": "code",
   "execution_count": 13,
   "id": "facf8c13-3653-4d87-8b96-5ae91bb102d3",
   "metadata": {},
   "outputs": [
    {
     "ename": "TypeError",
     "evalue": "unsupported operand type(s) for +: 'int' and 'str'",
     "output_type": "error",
     "traceback": [
      "\u001b[0;31m---------------------------------------------------------------------------\u001b[0m",
      "\u001b[0;31mTypeError\u001b[0m                                 Traceback (most recent call last)",
      "Cell \u001b[0;32mIn[13], line 1\u001b[0m\n\u001b[0;32m----> 1\u001b[0m \u001b[38;5;241;43m1\u001b[39;49m\u001b[43m \u001b[49m\u001b[38;5;241;43m+\u001b[39;49m\u001b[43m \u001b[49m\u001b[38;5;124;43m'\u001b[39;49m\u001b[38;5;124;43m2\u001b[39;49m\u001b[38;5;124;43m'\u001b[39;49m\n",
      "\u001b[0;31mTypeError\u001b[0m: unsupported operand type(s) for +: 'int' and 'str'"
     ]
    }
   ],
   "source": [
    "1 + '2'"
   ]
  },
  {
   "cell_type": "code",
   "execution_count": 14,
   "id": "a9fda8f1-06d4-4b31-a763-526cc83645c9",
   "metadata": {},
   "outputs": [
    {
     "data": {
      "text/plain": [
       "3"
      ]
     },
     "execution_count": 14,
     "metadata": {},
     "output_type": "execute_result"
    }
   ],
   "source": [
    "1 + int('2')"
   ]
  },
  {
   "cell_type": "code",
   "execution_count": 15,
   "id": "9ae20c5c-7ee2-402e-ba76-ccf24235f74c",
   "metadata": {},
   "outputs": [
    {
     "data": {
      "text/plain": [
       "'12'"
      ]
     },
     "execution_count": 15,
     "metadata": {},
     "output_type": "execute_result"
    }
   ],
   "source": [
    "str(1) + '2'"
   ]
  },
  {
   "cell_type": "markdown",
   "id": "5825b292-4aee-4f7e-be22-d72c818d6f58",
   "metadata": {},
   "source": [
    "## Can mix ints and floats"
   ]
  },
  {
   "cell_type": "code",
   "execution_count": 16,
   "id": "4cdf70af-15a8-40d5-a8a4-648922854763",
   "metadata": {},
   "outputs": [
    {
     "data": {
      "text/plain": [
       "0.5"
      ]
     },
     "execution_count": 16,
     "metadata": {},
     "output_type": "execute_result"
    }
   ],
   "source": [
    "1/2.0"
   ]
  },
  {
   "cell_type": "code",
   "execution_count": 17,
   "id": "31109352-92ce-467e-aec5-f677bac28aac",
   "metadata": {},
   "outputs": [
    {
     "data": {
      "text/plain": [
       "0.5"
      ]
     },
     "execution_count": 17,
     "metadata": {},
     "output_type": "execute_result"
    }
   ],
   "source": [
    "1/2"
   ]
  },
  {
   "cell_type": "code",
   "execution_count": 19,
   "id": "5ced36cc-ed2d-4d4c-9e2e-8b15283b2126",
   "metadata": {},
   "outputs": [
    {
     "data": {
      "text/plain": [
       "9.0"
      ]
     },
     "execution_count": 19,
     "metadata": {},
     "output_type": "execute_result"
    }
   ],
   "source": [
    "3.0 ** 2"
   ]
  },
  {
   "cell_type": "markdown",
   "id": "bf5223f7-4c5c-486c-ac00-09e0ed769c62",
   "metadata": {},
   "source": [
    "variables are **not** like a spreadsheet cell"
   ]
  },
  {
   "cell_type": "code",
   "execution_count": 20,
   "id": "9197786e-f6d8-45ae-908a-fdc185ae8e7a",
   "metadata": {},
   "outputs": [
    {
     "name": "stdout",
     "output_type": "stream",
     "text": [
      "1st is 2 and 2nd is 5\n"
     ]
    }
   ],
   "source": [
    "var_one = 1\n",
    "var_two = 5 * var_one\n",
    "var_one = 2\n",
    "print('1st is', var_one, 'and 2nd is', var_two)"
   ]
  },
  {
   "cell_type": "code",
   "execution_count": 21,
   "id": "4cd2fe92-b2a5-4a87-b54d-cd99708b1497",
   "metadata": {},
   "outputs": [
    {
     "name": "stdout",
     "output_type": "stream",
     "text": [
      "5 // 3: 1\n",
      "5 / 3: 1.6666666666666667\n",
      "5 % 3: 2\n"
     ]
    }
   ],
   "source": [
    "print('5 // 3:', 5 // 3)\n",
    "print('5 / 3:', 5 / 3)\n",
    "print('5 % 3:', 5 % 3)"
   ]
  },
  {
   "cell_type": "code",
   "execution_count": 22,
   "id": "d2cfa49d-cf3e-4e01-8bff-1a1af82176bc",
   "metadata": {},
   "outputs": [
    {
     "data": {
      "text/plain": [
       "(6+2j)"
      ]
     },
     "execution_count": 22,
     "metadata": {},
     "output_type": "execute_result"
    }
   ],
   "source": [
    "# complex numbers\n",
    "6 + 2j"
   ]
  },
  {
   "cell_type": "code",
   "execution_count": 23,
   "id": "a898da83-3023-446e-aa64-758e2ed4e313",
   "metadata": {},
   "outputs": [
    {
     "data": {
      "text/plain": [
       "6.0"
      ]
     },
     "execution_count": 23,
     "metadata": {},
     "output_type": "execute_result"
    }
   ],
   "source": [
    "(6+2j).real"
   ]
  },
  {
   "cell_type": "code",
   "execution_count": 24,
   "id": "d3119854-fc2c-4947-ad3b-c45b13dc39dd",
   "metadata": {},
   "outputs": [
    {
     "data": {
      "text/plain": [
       "2.0"
      ]
     },
     "execution_count": 24,
     "metadata": {},
     "output_type": "execute_result"
    }
   ],
   "source": [
    "(6+2j).imag"
   ]
  },
  {
   "cell_type": "code",
   "execution_count": null,
   "id": "d11b8c52-ace1-4127-aed2-8f0fcb7ad8ad",
   "metadata": {},
   "outputs": [],
   "source": []
  }
 ],
 "metadata": {
  "kernelspec": {
   "display_name": "Python 3 (ipykernel)",
   "language": "python",
   "name": "python3"
  },
  "language_info": {
   "codemirror_mode": {
    "name": "ipython",
    "version": 3
   },
   "file_extension": ".py",
   "mimetype": "text/x-python",
   "name": "python",
   "nbconvert_exporter": "python",
   "pygments_lexer": "ipython3",
   "version": "3.13.1"
  }
 },
 "nbformat": 4,
 "nbformat_minor": 5
}
