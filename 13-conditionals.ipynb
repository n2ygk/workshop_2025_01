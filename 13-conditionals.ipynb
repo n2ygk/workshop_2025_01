{
 "cells": [
  {
   "cell_type": "markdown",
   "id": "be2791a9-6a20-407d-8a08-d5a10528ddf9",
   "metadata": {},
   "source": [
    "# Conditionals\n",
    "`if` `else`"
   ]
  },
  {
   "cell_type": "code",
   "execution_count": 1,
   "id": "eb01be5d-9af7-4ce6-939c-aa3dcc80d0aa",
   "metadata": {},
   "outputs": [
    {
     "name": "stdout",
     "output_type": "stream",
     "text": [
      "3.54 is large\n"
     ]
    }
   ],
   "source": [
    "mass = 3.54\n",
    "if mass > 3.0:\n",
    "    print(mass, 'is large')"
   ]
  },
  {
   "cell_type": "code",
   "execution_count": 2,
   "id": "1c264d98-1861-4b66-989b-76f5ac3e5efe",
   "metadata": {},
   "outputs": [
    {
     "name": "stdout",
     "output_type": "stream",
     "text": [
      "3.54 is large\n",
      "9.22 is large\n"
     ]
    }
   ],
   "source": [
    "masses = [3.54, 2.07, 9.22, 1.86, 1.71]\n",
    "for m in masses:\n",
    "    if m > 3.0:\n",
    "        print(m, 'is large')"
   ]
  },
  {
   "cell_type": "code",
   "execution_count": 3,
   "id": "d7579cac-402f-4f4d-9d59-131a8fc86e6d",
   "metadata": {},
   "outputs": [
    {
     "name": "stdout",
     "output_type": "stream",
     "text": [
      "3.54 is large\n",
      "2.07 is small\n",
      "9.22 is large\n",
      "1.86 is small\n",
      "1.71 is small\n"
     ]
    }
   ],
   "source": [
    "masses = [3.54, 2.07, 9.22, 1.86, 1.71]\n",
    "for m in masses:\n",
    "    if m > 3.0:\n",
    "        print(m, 'is large')\n",
    "    else:\n",
    "        print(m, 'is small')"
   ]
  },
  {
   "cell_type": "code",
   "execution_count": 4,
   "id": "111c5b51-05c6-4efb-9b21-afa18fa7390b",
   "metadata": {},
   "outputs": [
    {
     "name": "stdout",
     "output_type": "stream",
     "text": [
      "3.54 is large\n",
      "2.07 is small\n",
      "9.22 is HUGE\n",
      "1.86 is small\n",
      "1.71 is small\n"
     ]
    }
   ],
   "source": [
    "masses = [3.54, 2.07, 9.22, 1.86, 1.71]\n",
    "for m in masses:\n",
    "    if m > 9.0:\n",
    "        print(m, 'is HUGE')\n",
    "    elif m > 3.0:\n",
    "        print(m, 'is large')\n",
    "    else:\n",
    "        print(m, 'is small')"
   ]
  },
  {
   "cell_type": "code",
   "execution_count": 5,
   "id": "b2d032a4-77f7-4377-a165-461981c9203e",
   "metadata": {},
   "outputs": [
    {
     "name": "stdout",
     "output_type": "stream",
     "text": [
      "0 : 10.0\n",
      "moving too slow\n",
      "1 : 20.0\n",
      "moving too slow\n",
      "2 : 30.0\n",
      "moving too fast\n",
      "3 : 25.0\n",
      "moving too fast\n",
      "4 : 20.0\n",
      "moving too slow\n",
      "final velocity: 30.0\n"
     ]
    }
   ],
   "source": [
    "velocity = 10.0\n",
    "for i in range(5): # execute the loop 5 times\n",
    "    print(i, ':', velocity)\n",
    "    if velocity > 20.0:\n",
    "        print('moving too fast')\n",
    "        velocity -= 5.0\n",
    "    else:\n",
    "        print('moving too slow')\n",
    "        velocity += 10.0\n",
    "print('final velocity:', velocity)"
   ]
  },
  {
   "cell_type": "markdown",
   "id": "d52e1dec-926b-42ef-b0d5-ef4a8d9e3a41",
   "metadata": {},
   "source": [
    "Compound relations using parens, and, or"
   ]
  },
  {
   "cell_type": "code",
   "execution_count": 6,
   "id": "42ef3a03-7616-4b4b-b31b-7eb2e3597b6f",
   "metadata": {},
   "outputs": [
    {
     "name": "stdout",
     "output_type": "stream",
     "text": [
      "normal\n",
      "normal\n",
      "fast heavy object\n",
      "Whoa!\n",
      "slow light object\n"
     ]
    }
   ],
   "source": [
    "mass = [3.54, 2.07, 9.22, 1.86, 1.71]\n",
    "velocity = [10, 20, 30, 25, 20]\n",
    "\n",
    "i = 0 # not necessary!\n",
    "for i in range(5):\n",
    "    if mass[i] > 5 and velocity[i] > 20:\n",
    "        print('fast heavy object')\n",
    "    elif mass[i] > 2 and mass[i] <= 5 and velocity[i] <= 20:\n",
    "        print('normal')\n",
    "    elif mass[i] <= 2 and velocity[i] <= 20:\n",
    "        print('slow light object')\n",
    "    else:\n",
    "        print('Whoa!')"
   ]
  },
  {
   "cell_type": "code",
   "execution_count": null,
   "id": "70277741-5ed2-46de-9bf6-c77daff4247c",
   "metadata": {},
   "outputs": [],
   "source": []
  }
 ],
 "metadata": {
  "kernelspec": {
   "display_name": "Python 3 (ipykernel)",
   "language": "python",
   "name": "python3"
  },
  "language_info": {
   "codemirror_mode": {
    "name": "ipython",
    "version": 3
   },
   "file_extension": ".py",
   "mimetype": "text/x-python",
   "name": "python",
   "nbconvert_exporter": "python",
   "pygments_lexer": "ipython3",
   "version": "3.13.1"
  }
 },
 "nbformat": 4,
 "nbformat_minor": 5
}
