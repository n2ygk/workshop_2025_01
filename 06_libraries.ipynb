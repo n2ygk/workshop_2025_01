{
 "cells": [
  {
   "cell_type": "markdown",
   "id": "9c761379-b3f1-45e9-a23d-214bc18c2984",
   "metadata": {},
   "source": [
    "A _library_ is a collection of _modules_ (files)\n",
    "The major strength of Python is the extensive set of libraries."
   ]
  },
  {
   "cell_type": "code",
   "execution_count": 1,
   "id": "e9772f84-9f2a-484d-8816-374769dffbd9",
   "metadata": {},
   "outputs": [],
   "source": [
    "import math # import the math library"
   ]
  },
  {
   "cell_type": "code",
   "execution_count": 2,
   "id": "542d46c2-f058-414d-bd20-c9a6c61d249e",
   "metadata": {},
   "outputs": [
    {
     "data": {
      "text/plain": [
       "3.141592653589793"
      ]
     },
     "execution_count": 2,
     "metadata": {},
     "output_type": "execute_result"
    }
   ],
   "source": [
    "math.pi"
   ]
  },
  {
   "cell_type": "code",
   "execution_count": 3,
   "id": "a26d4d6c-7e02-4106-ab11-4fae08daf101",
   "metadata": {},
   "outputs": [
    {
     "data": {
      "text/plain": [
       "-1.0"
      ]
     },
     "execution_count": 3,
     "metadata": {},
     "output_type": "execute_result"
    }
   ],
   "source": [
    "math.cos(math.pi)"
   ]
  },
  {
   "cell_type": "code",
   "execution_count": 5,
   "id": "cecb2547-66df-4107-ab35-96a2692a732b",
   "metadata": {},
   "outputs": [
    {
     "data": {
      "text/plain": [
       "3.141592653589793"
      ]
     },
     "execution_count": 5,
     "metadata": {},
     "output_type": "execute_result"
    }
   ],
   "source": [
    "# shorter names:\n",
    "from math import cos, pi\n",
    "pi"
   ]
  },
  {
   "cell_type": "code",
   "execution_count": 6,
   "id": "533a5810-abb9-49eb-92b6-ff7ca08c38fc",
   "metadata": {},
   "outputs": [
    {
     "data": {
      "text/plain": [
       "-1.0"
      ]
     },
     "execution_count": 6,
     "metadata": {},
     "output_type": "execute_result"
    }
   ],
   "source": [
    "cos(pi)"
   ]
  },
  {
   "cell_type": "code",
   "execution_count": 7,
   "id": "fd517779-8ca7-4822-b0fd-1e1eff0ff4ca",
   "metadata": {},
   "outputs": [
    {
     "data": {
      "text/plain": [
       "(3.141592653589793, -1.0)"
      ]
     },
     "execution_count": 7,
     "metadata": {},
     "output_type": "execute_result"
    }
   ],
   "source": [
    "# aliases for libraries\n",
    "import math as m\n",
    "m.pi, m.cos(m.pi)"
   ]
  },
  {
   "cell_type": "code",
   "execution_count": 8,
   "id": "4cd5aa60-c429-4ffd-afa0-87fae1bee3ac",
   "metadata": {},
   "outputs": [
    {
     "name": "stdout",
     "output_type": "stream",
     "text": [
      "Help on built-in function exp in module math:\n",
      "\n",
      "exp(x, /)\n",
      "    Return e raised to the power of x.\n",
      "\n"
     ]
    }
   ],
   "source": [
    "help(math.exp)"
   ]
  },
  {
   "cell_type": "code",
   "execution_count": 14,
   "id": "bc788884-c5ab-4480-b390-f4da42b60d93",
   "metadata": {},
   "outputs": [
    {
     "name": "stdout",
     "output_type": "stream",
     "text": [
      "Help on built-in function pow in module math:\n",
      "\n",
      "pow(x, y, /)\n",
      "    Return x**y (x to the power of y).\n",
      "\n"
     ]
    }
   ],
   "source": [
    "help(math.pow)"
   ]
  }
 ],
 "metadata": {
  "kernelspec": {
   "display_name": "Python 3 (ipykernel)",
   "language": "python",
   "name": "python3"
  },
  "language_info": {
   "codemirror_mode": {
    "name": "ipython",
    "version": 3
   },
   "file_extension": ".py",
   "mimetype": "text/x-python",
   "name": "python",
   "nbconvert_exporter": "python",
   "pygments_lexer": "ipython3",
   "version": "3.13.1"
  }
 },
 "nbformat": 4,
 "nbformat_minor": 5
}
